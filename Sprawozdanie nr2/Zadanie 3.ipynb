{
 "cells": [
  {
   "cell_type": "code",
   "execution_count": 1,
   "metadata": {
    "collapsed": true
   },
   "outputs": [],
   "source": [
    "import numpy as np\n",
    "import matplotlib.pyplot as plt"
   ]
  },
  {
   "cell_type": "code",
   "execution_count": 4,
   "metadata": {
    "collapsed": true
   },
   "outputs": [],
   "source": [
    "def wyjscieZkostki(d = 1, dt = 10**(-3)):\n",
    "    data = np.zeros(d)\n",
    "    t = 0\n",
    "    \n",
    "    while (abs(data) <= 1).all():\n",
    "        data += np.sqrt(dt)*np.random.randn(d)\n",
    "        t += dt        \n",
    "    return t"
   ]
  },
  {
   "cell_type": "code",
   "execution_count": 12,
   "metadata": {
    "collapsed": true
   },
   "outputs": [],
   "source": [
    "def sredniCzasWyjsciaZkostki():\n",
    "    MCS = 10**3\n",
    "    srednie = []\n",
    "    zakres = range(1,10)\n",
    "\n",
    "    for d in zakres:\n",
    "        data = [wyjscieZkostki(3, 10**(-3)) for _ in range(MCS)]\n",
    "        srednie.append(np.mean(data))\n",
    "\n",
    "    plt.scatter(zakres, srednie)\n",
    "    plt.xlabel('d')\n",
    "    plt.ylabel('Sredni czas wyjscia')\n",
    "    plt.show()"
   ]
  },
  {
   "cell_type": "code",
   "execution_count": 23,
   "metadata": {
    "collapsed": true
   },
   "outputs": [],
   "source": [
    "def rozkladyCzasowWyjsciaZkostek():\n",
    "    plt.figure(figsize = (14,4))\n",
    "    MCS = 10**3\n",
    "\n",
    "    for d in range(1,4):\n",
    "        data = [wyjscieZkostki(3, 10**(-3)) for _ in range(MCS)]\n",
    "        plt.subplot(1,3,d)\n",
    "        plt.title('Czas wyjscia z kostki {}-wymiarowej'.format(d))\n",
    "        plt.hist(data, bins = 20)\n",
    "\n",
    "    plt.tight_layout()\n",
    "    plt.show()"
   ]
  },
  {
   "cell_type": "code",
   "execution_count": 40,
   "metadata": {
    "collapsed": true
   },
   "outputs": [],
   "source": [
    "def podpunktB(dt, T):\n",
    "    data = np.zeros(2)\n",
    "    t = 0\n",
    "\n",
    "    wyszedlPoza5 = False\n",
    "    wrocilDo0 = False\n",
    "\n",
    "    while t <= T:\n",
    "        data += np.sqrt(dt)*np.random.randn(2)\n",
    "        if not wyszedlPoza5:\n",
    "            if np.sqrt(np.sum(data**2)) >= 5:\n",
    "                wyszedlPoza5 = True\n",
    "        else:\n",
    "            if np.sqrt(np.sum(data**2)) <= 0.01:\n",
    "                return True\n",
    "        t += dt\n",
    "    return False"
   ]
  },
  {
   "cell_type": "code",
   "execution_count": 37,
   "metadata": {
    "collapsed": true
   },
   "outputs": [],
   "source": [
    "def symulacjaPodpunktuB(dt, T, MCS):\n",
    "    return np.mean([podpunktB(dt, T) for _ in range(MCS)])"
   ]
  },
  {
   "cell_type": "code",
   "execution_count": 43,
   "metadata": {
    "collapsed": true
   },
   "outputs": [],
   "source": [
    "def analizaPodpunktuB(dt, T, MCS):\n",
    "    toReturn = []\n",
    "    for t in T:\n",
    "        temp = symulacjaPodpunktuB(dt,t,MCS)\n",
    "        print('Dla T = {} prawdopodobieństwo wynosi '.format(t), temp)\n",
    "        toReturn.append(temp)\n",
    "    \n",
    "    plt.scatter(T,toReturn)\n",
    "    plt.show()"
   ]
  },
  {
   "cell_type": "code",
   "execution_count": 7,
   "metadata": {
    "collapsed": true
   },
   "outputs": [],
   "source": [
    "def podpunktC(dt, T):\n",
    "    data = np.zeros(2)\n",
    "    t = 0\n",
    "    \n",
    "    while t <= T:\n",
    "        data += np.sqrt(dt)*np.random.randn(2)\n",
    "        if np.sum((data - 5)**2) <= 1:\n",
    "            return 1\n",
    "        t += dt\n",
    "    return 0"
   ]
  },
  {
   "cell_type": "code",
   "execution_count": 5,
   "metadata": {
    "collapsed": true
   },
   "outputs": [],
   "source": [
    "def symulacjaPodpunktuC(dt, T, MCS):\n",
    "    with open('PodpunktC.txt', 'a') as f:\n",
    "        counter = 0\n",
    "        for _ in range(MCS):\n",
    "            score = podpunktC(dt,T)\n",
    "            f.write(str(score) + '\\n')\n",
    "            counter += score\n",
    "    print('Prawdopodobieństwo wynosi: ', counter/MCS)\n",
    "    return counter/MCS"
   ]
  },
  {
   "cell_type": "code",
   "execution_count": 12,
   "metadata": {
    "collapsed": true
   },
   "outputs": [],
   "source": [
    "def podpunktD(dt, T):\n",
    "    data = np.zeros(2)\n",
    "    t = 0\n",
    "    kulaNr3 = np.array([-1,3])\n",
    "\n",
    "    trafilW2 = False\n",
    "\n",
    "    while t <= T:\n",
    "        data += np.sqrt(dt)*np.random.randn(2)\n",
    "        if not trafilW2:\n",
    "            if np.sum((data - 2)**2) <= 1:\n",
    "                trafilW2 = True\n",
    "                #print('Wszedl w kule o srodku (2,2).')\n",
    "        elif np.sum((data - 3)**2) <= 0.5:\n",
    "            #print('Wszedl w kule o srodku (3,3).')\n",
    "            return 0\n",
    "        elif trafilW2 and np.sum((data - kulaNr3)**2) <= 1.6:\n",
    "            #print('Wszedl w kule o srodku (-1,3).')\n",
    "            return 1    \n",
    "        t += dt\n",
    "    return 0"
   ]
  },
  {
   "cell_type": "code",
   "execution_count": 13,
   "metadata": {
    "collapsed": true
   },
   "outputs": [],
   "source": [
    "def symulacjaPodpunktuD(dt, T, MCS):\n",
    "    with open('PodpunktD.txt', 'a') as f:\n",
    "        counter = 0\n",
    "        for _ in range(MCS):\n",
    "            score = podpunktD(dt,T)\n",
    "            f.write(str(score) + '\\n')\n",
    "            counter += score\n",
    "    print('Prawdopodobieństwo wynosi: ', counter/MCS)\n",
    "    return counter/MCS"
   ]
  },
  {
   "cell_type": "markdown",
   "metadata": {},
   "source": [
    "# Teoria\n",
    "\n",
    "To do:\n",
    "- momenty stopu (momenty Markowa)\n",
    "- trafienie procesu stochastycznego w zbiór\n",
    "- procesy tranzytywne\n",
    "- zbiory polarne"
   ]
  },
  {
   "cell_type": "markdown",
   "metadata": {},
   "source": [
    "# Podpunkt A\n",
    "\n",
    "W tym podpunkcie będziemy chcieli oszacować średni czas wyjścia d-wymiarowego ruchu Browna z kostki d-wymiarowej oraz zbadać rozkład tych czasów dla 1,2,3 wymiaru."
   ]
  },
  {
   "cell_type": "code",
   "execution_count": 14,
   "metadata": {},
   "outputs": [
    {
     "data": {
      "image/png": "[encoded data removed]",
      "text/plain": [
       "<matplotlib.figure.Figure at 0x8edc198>"
      ]
     },
     "metadata": {},
     "output_type": "display_data"
    }
   ],
   "source": [
    "sredniCzasWyjsciaZkostki()"
   ]
  },
  {
   "cell_type": "code",
   "execution_count": 24,
   "metadata": {},
   "outputs": [
    {
     "data": {
      "image/png": "[encoded data removed]",
      "text/plain": [
       "<matplotlib.figure.Figure at 0x9d61390>"
      ]
     },
     "metadata": {},
     "output_type": "display_data"
    }
   ],
   "source": [
    "rozkladyCzasowWyjsciaZkostek()"
   ]
  },
  {
   "cell_type": "markdown",
   "metadata": {},
   "source": [
    "Zbadać te rozkłady, tzn. wyznaczyć dystrybuanty, narysować boxploty, spróbować dopasować do jakiegoś rozkładu (wykładniczy)."
   ]
  },
  {
   "cell_type": "markdown",
   "metadata": {},
   "source": [
    "# Podpunkt B"
   ]
  },
  {
   "cell_type": "code",
   "execution_count": 44,
   "metadata": {},
   "outputs": [
    {
     "name": "stdout",
     "output_type": "stream",
     "text": [
      "Dla T = 10 prawdopodobieństwo wynosi  0.0\n",
      "Dla T = 20 prawdopodobieństwo wynosi  0.0\n",
      "Dla T = 30 prawdopodobieństwo wynosi  0.0\n"
     ]
    }
   ],
   "source": [
    "dt = 10**(-3)\n",
    "T = [10, 20, 30]\n",
    "MCS = 100\n",
    "\n",
    "analizaPodpunktuB(dt, T, MCS)"
   ]
  },
  {
   "cell_type": "markdown",
   "metadata": {},
   "source": [
    "# Podpunkt C"
   ]
  },
  {
   "cell_type": "code",
   "execution_count": 8,
   "metadata": {},
   "outputs": [
    {
     "name": "stdout",
     "output_type": "stream",
     "text": [
      "Prawdopodobieństwo wynosi:  0.02\n"
     ]
    },
    {
     "data": {
      "text/plain": [
       "0.02"
      ]
     },
     "execution_count": 8,
     "metadata": {},
     "output_type": "execute_result"
    }
   ],
   "source": [
    "dt = 10**(-4)\n",
    "T = 100000\n",
    "MCS = 10000\n",
    "symulacjaPodpunktuC(dt, T, MCS)"
   ]
  },
  {
   "cell_type": "markdown",
   "metadata": {},
   "source": [
    "# Podpunkt D"
   ]
  },
  {
   "cell_type": "code",
   "execution_count": 14,
   "metadata": {},
   "outputs": [
    {
     "name": "stdout",
     "output_type": "stream",
     "text": [
      "Prawdopodobieństwo wynosi:  0.08\n"
     ]
    },
    {
     "data": {
      "text/plain": [
       "0.08"
      ]
     },
     "execution_count": 14,
     "metadata": {},
     "output_type": "execute_result"
    }
   ],
   "source": [
    "dt = 10**(-4)\n",
    "T = 100000\n",
    "MCS = 10000\n",
    "symulacjaPodpunktuD(dt, T, MCS)"
   ]
  },
  {
   "cell_type": "code",
   "execution_count": null,
   "metadata": {
    "collapsed": true
   },
   "outputs": [],
   "source": []
  }
 ],
 "metadata": {
  "kernelspec": {
   "display_name": "Python 3",
   "language": "python",
   "name": "python3"
  },
  "language_info": {
   "codemirror_mode": {
    "name": "ipython",
    "version": 3
   },
   "file_extension": ".py",
   "mimetype": "text/x-python",
   "name": "python",
   "nbconvert_exporter": "python",
   "pygments_lexer": "ipython3",
   "version": "3.6.3"
  }
 },
 "nbformat": 4,
 "nbformat_minor": 2
}

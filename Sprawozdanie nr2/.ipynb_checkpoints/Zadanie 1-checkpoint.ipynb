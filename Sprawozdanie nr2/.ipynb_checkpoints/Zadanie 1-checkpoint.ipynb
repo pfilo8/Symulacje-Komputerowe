{
 "cells": [
  {
   "cell_type": "markdown",
   "metadata": {},
   "source": [
    "# Pardwy i Wilcy"
   ]
  },
  {
   "cell_type": "markdown",
   "metadata": {},
   "source": [
    "W zadaniu wykorzystamy błądzenie losowe z dryfrem, tzn.\n",
    "$$ X_t = \\delta + X_{t-1} + \\epsilon_t,$$\n",
    "gdzie:\n",
    "- $\\delta$ - parametr dryfu\n",
    "- $\\epsilon$ - zmienna losowa o rozkładznie $N(0,\\sigma^2)$"
   ]
  },
  {
   "cell_type": "code",
   "execution_count": 3,
   "metadata": {
    "collapsed": true
   },
   "outputs": [],
   "source": [
    "import random\n",
    "import math\n",
    "import numpy as np\n",
    "import matplotlib.pyplot as plt"
   ]
  },
  {
   "cell_type": "code",
   "execution_count": 4,
   "metadata": {
    "collapsed": true
   },
   "outputs": [],
   "source": [
    "def generujZkola():\n",
    "    r = random.random()\n",
    "    alpha = random.uniform(0, 2*math.pi)\n",
    "    return r*math.cos(alpha), r*math.sin(alpha)"
   ]
  },
  {
   "cell_type": "code",
   "execution_count": 26,
   "metadata": {
    "collapsed": true
   },
   "outputs": [],
   "source": [
    "T = 0 #czas\n",
    "R = 1 #rozdzielczosc czasu"
   ]
  },
  {
   "cell_type": "code",
   "execution_count": 27,
   "metadata": {
    "collapsed": true
   },
   "outputs": [],
   "source": [
    "class Zwierzak:\n",
    "    def __init__(self):\n",
    "        self.xy = np.array(generujZkola())\n",
    "        self.dryf = np.zeros(2)\n",
    "        self.plec = random.choice(['man', 'woman'])\n",
    "        \n",
    "    def odleglosc(self, other):\n",
    "        return np.sqrt(np.sum(self.xy**2))\n",
    "    \n",
    "    def kierunek(self, other):\n",
    "        wektor = other.xy - self.xy\n",
    "        norma = odleglosc(wektor)\n",
    "        return np.divide(wektor, norma)\n",
    "        \n",
    "    def move(self):\n",
    "        if self.niewola <= 0:\n",
    "            B = math.sqrt(R)*np.random.randn(2)\n",
    "            self.xy += self.dryf + B\n",
    "            self.dryf = np.zeros(2) # czyszczenie dryfu na następną iterację\n",
    "        else:\n",
    "            self.niewola -= 1"
   ]
  },
  {
   "cell_type": "code",
   "execution_count": 123,
   "metadata": {
    "collapsed": true
   },
   "outputs": [],
   "source": [
    "class Pardwa(Zwierzak):\n",
    "    H_ODDALANIE_SAMCOW = 2\n",
    "    H_PORODU = 2\n",
    "    H_UCIECZKI = 2\n",
    "    \n",
    "    def __init__(self):\n",
    "        Zwierzak.__init__(self)\n",
    "        self.niewola = random.expovariate(1/70)\n",
    "        \n",
    "    def oddalanie(self, other):\n",
    "        odl = self.odleglosc(other)\n",
    "        if self.plec == 'man' and other.plec == 'man' and odl <= H_ODDALANIE_SAMCOW:\n",
    "            self.dryf -= 3/odl * kierunek(self, other)  \n",
    "            \n",
    "    def zaloty(self, other):\n",
    "        odl = self.odleglosc(other)\n",
    "        if self.plec == 'woman' and other.plec == 'man' and odl <= H_PORODU:\n",
    "            self.dryf += kierunek(other)\n",
    "        elif self.plec == 'man' and other.plec == 'woman' and odl <= H_PORODU:\n",
    "            self.dryf += 1.5*kierunek(other)\n",
    "        # rodzenie\n",
    "        \n",
    "    def ucieczka(self, other):\n",
    "        if type(other) == Wilk:\n",
    "            odl = self.odleglosc(ohter)\n",
    "            if odl <= H_UCIECZKI:\n",
    "                self.dryf += -0.9*self.kierunek(other)\n",
    "            elif odl <= H_UCIECZKI/10:\n",
    "                pass #self.kill()\n",
    "                \n",
    "    def kill(self):\n",
    "        pass"
   ]
  },
  {
   "cell_type": "code",
   "execution_count": 131,
   "metadata": {
    "collapsed": true
   },
   "outputs": [],
   "source": [
    "class Wilk(Zwierzak):\n",
    "    H_ZBLIZANIA = 2\n",
    "    H_ODDALANIA_ALPHA = 2\n",
    "    H_PORODU = 2\n",
    "    \n",
    "    def __init__(self):\n",
    "        Zwierzak.__init__(self)\n",
    "        self.niewola = random.expovariate(1/200)\n",
    "        self.alpha = random.random() <= 0.05\n",
    "        \n",
    "    def oddalanie(self, other):\n",
    "        odl = self.odleglosc(other)\n",
    "        if not self.alpha and not other.alpha and odl >= H_ZBLIZANIA:\n",
    "            \"Dążenie zwykłych wilków do siebie.\"\n",
    "            self.dryf += 0.1*self.kierunek(other)*(odl - 0.1)\n",
    "        elif not self.alpha and other.alpha:\n",
    "            \"Dążenie zwykłych wilków do alph.\"\n",
    "            self.dryf += 0.15*self.kierunek(other)\n",
    "        elif self.alpha and self.plec == other.plec and odl <= H_ODDALANIA_ALPHA:\n",
    "            \"Taka sama płeć alph.\"\n",
    "            self.dryf += -self.kierunek(other)\n",
    "            \n",
    "    def zaloty(self, other):\n",
    "        if self.plec == 'man' and other.plec == 'woman':\n",
    "            self.dryf += 0.3*self.kierunek(other)\n",
    "            odl = self.odleglosc(other)\n",
    "            if odl <= H_PORODU:\n",
    "                #porod\n",
    "                pass\n",
    "            \n",
    "            \n",
    "    def polowanie(self, other):\n",
    "        if type(other) == Pardwa:\n",
    "            odl = self.odleglosc(other)\n",
    "            self.dryf += self.kierunek(other)*(1 + min(0.3, 3/odl**2))"
   ]
  },
  {
   "cell_type": "code",
   "execution_count": 128,
   "metadata": {},
   "outputs": [
    {
     "data": {
      "text/plain": [
       "0.40514093030584342"
      ]
     },
     "execution_count": 128,
     "metadata": {},
     "output_type": "execute_result"
    }
   ],
   "source": [
    "a = Pardwa()\n",
    "b = Pardwa()\n",
    "a.odleglosc(b)"
   ]
  },
  {
   "cell_type": "code",
   "execution_count": 9,
   "metadata": {
    "collapsed": true
   },
   "outputs": [],
   "source": [
    "class Simulation:\n",
    "    def __init__(self, n_pardwy, n_wilcy):\n",
    "        self.popPardw = [Pardwa() for _ in range(n_pardwy)]\n",
    "        self.popWilcy = [Wilk() for _ in range(n_wilcy)]\n",
    "        \n",
    "    def move(self):\n",
    "        \"\"\" Przesuniecie wszystkich zwierzaczków. \"\"\"\n",
    "        for pardwa in self.popPardw:\n",
    "            pardwa.move(2)\n",
    "        for wilk in self.popWilcy:\n",
    "            wilk.move(2)\n",
    "               \n",
    "    def show(self):\n",
    "        \"\"\" Plotowanie wszystkiego. \"\"\"\n",
    "        #Pardwy\n",
    "        xPardwy = []\n",
    "        yPardwy = []\n",
    "        for pardwa in self.popPardw:\n",
    "            xPardwy.append(pardwa.xy[0])\n",
    "            yPardwy.append(pardwa.xy[1])\n",
    "\n",
    "        #Wilcy\n",
    "        xWilcy = []\n",
    "        yWilcy = []\n",
    "        for wilk in self.popWilcy:\n",
    "            xWilcy.append(wilk.xy[0])\n",
    "            yWilcy.append(wilk.xy[1])\n",
    "        \n",
    "\n",
    "        plt.figure(figsize = (10,10))\n",
    "        plt.axis([-1, 1, -1, 1])\n",
    "        \n",
    "        plt.scatter(xPardwy, yPardwy, c = 'b')\n",
    "        plt.scatter(xWilcy, yWilcy, c = 'r')\n",
    "        \n",
    "        plt.xticks([])\n",
    "        plt.yticks([])\n",
    "        plt.show()"
   ]
  },
  {
   "cell_type": "code",
   "execution_count": 10,
   "metadata": {},
   "outputs": [
    {
     "data": {
      "image/png": "[encoded data removed]",
      "text/plain": [
       "<matplotlib.figure.Figure at 0x8d08fd0>"
      ]
     },
     "metadata": {},
     "output_type": "display_data"
    }
   ],
   "source": [
    "s = Simulation(10,10)\n",
    "s.show()"
   ]
  },
  {
   "cell_type": "code",
   "execution_count": 24,
   "metadata": {},
   "outputs": [
    {
     "data": {
      "image/png": "[encoded data removed]",
      "text/plain": [
       "<matplotlib.figure.Figure at 0x9834b00>"
      ]
     },
     "metadata": {},
     "output_type": "display_data"
    }
   ],
   "source": [
    "s.move()\n",
    "s.show()"
   ]
  },
  {
   "cell_type": "code",
   "execution_count": null,
   "metadata": {
    "collapsed": true
   },
   "outputs": [],
   "source": []
  }
 ],
 "metadata": {
  "kernelspec": {
   "display_name": "Python 3",
   "language": "python",
   "name": "python3"
  },
  "language_info": {
   "codemirror_mode": {
    "name": "ipython",
    "version": 3
   },
   "file_extension": ".py",
   "mimetype": "text/x-python",
   "name": "python",
   "nbconvert_exporter": "python",
   "pygments_lexer": "ipython3",
   "version": "3.6.3"
  }
 },
 "nbformat": 4,
 "nbformat_minor": 2
}

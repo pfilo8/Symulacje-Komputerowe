{
 "cells": [
  {
   "cell_type": "markdown",
   "metadata": {},
   "source": [
    "# Zadanie 3"
   ]
  },
  {
   "cell_type": "code",
   "execution_count": 3,
   "metadata": {
    "collapsed": true
   },
   "outputs": [],
   "source": [
    "from scipy.optimize import fmin, fminbound\n",
    "import math\n",
    "import random\n",
    "import time\n",
    "import numpy as np"
   ]
  },
  {
   "cell_type": "code",
   "execution_count": 4,
   "metadata": {
    "collapsed": true
   },
   "outputs": [],
   "source": [
    "def monteCarloIntegral(f,a,b,n):\n",
    "    \"\"\" Funkcja licząca metodą Monte Carlo całkę funkcji f na przedziale (a,b) wykonując n symulacji punktów. \"\"\"\n",
    "    m = min(0, f(fminbound(f,a,b)))\n",
    "    M = max(0, f(fminbound(lambda x: -f(x),a,b)))\n",
    "    s = 0\n",
    "    for _ in range(n):\n",
    "        x = random.uniform(a,b)\n",
    "        y = random.uniform(m,M)\n",
    "        \n",
    "        if y <= f(x) and y > 0:\n",
    "            s += 1\n",
    "        elif y >= f(x) and y < 0:\n",
    "            s -= 1\n",
    "    \n",
    "    return s/n * (b-a)*(M-m)"
   ]
  },
  {
   "cell_type": "code",
   "execution_count": 5,
   "metadata": {},
   "outputs": [
    {
     "data": {
      "text/plain": [
       "1.9729201864543902"
      ]
     },
     "execution_count": 5,
     "metadata": {},
     "output_type": "execute_result"
    }
   ],
   "source": [
    "monteCarloIntegral(math.sin, 0, math.pi, 1000)"
   ]
  },
  {
   "cell_type": "code",
   "execution_count": 6,
   "metadata": {},
   "outputs": [
    {
     "data": {
      "text/plain": [
       "1.712507343880559"
      ]
     },
     "execution_count": 6,
     "metadata": {},
     "output_type": "execute_result"
    }
   ],
   "source": [
    "monteCarloIntegral(math.exp, 0, 1, 1000)"
   ]
  },
  {
   "cell_type": "code",
   "execution_count": 19,
   "metadata": {},
   "outputs": [
    {
     "data": {
      "text/plain": [
       "0.90809186541248665"
      ]
     },
     "execution_count": 19,
     "metadata": {},
     "output_type": "execute_result"
    }
   ],
   "source": [
    "def f(x):\n",
    "    return 1/(x**2)\n",
    "\n",
    "monteCarloIntegral(f, 1, 10, 10000)"
   ]
  },
  {
   "cell_type": "markdown",
   "metadata": {
    "collapsed": true
   },
   "source": [
    "# Zadanie 4"
   ]
  },
  {
   "cell_type": "code",
   "execution_count": 137,
   "metadata": {
    "collapsed": true
   },
   "outputs": [],
   "source": [
    "def monteCarloPi(n):\n",
    "    \"\"\" Funkcja oszacowujaca liczbe pi/4 przy n losowaniach Monte Carlo. \"\"\"\n",
    "    points = 0\n",
    "    for _ in range(n):        \n",
    "        x = random.random()\n",
    "        y = random.random()\n",
    "        \n",
    "        if x**2 + y**2 <= 1:\n",
    "            points += 1\n",
    "        \n",
    "    return points/n"
   ]
  },
  {
   "cell_type": "code",
   "execution_count": 138,
   "metadata": {},
   "outputs": [
    {
     "data": {
      "text/plain": [
       "3.068"
      ]
     },
     "execution_count": 138,
     "metadata": {},
     "output_type": "execute_result"
    }
   ],
   "source": [
    "4*monteCarloPi(1000)"
   ]
  },
  {
   "cell_type": "code",
   "execution_count": 139,
   "metadata": {
    "collapsed": true
   },
   "outputs": [],
   "source": [
    "import matplotlib.pyplot as plt"
   ]
  },
  {
   "cell_type": "code",
   "execution_count": 140,
   "metadata": {
    "collapsed": true
   },
   "outputs": [],
   "source": [
    "def oszacowaniaPi(ns, m):\n",
    "    \"\"\"\n",
    "    ns - lista n do sprawdzenia\n",
    "    m - ilosc symulacji dla kazdego n\n",
    "    ---------------------------------\n",
    "    Zwraca liste usrednionych wartosc bledow dla odpowiednich n.\n",
    "    \"\"\"\n",
    "    oszacowania = []\n",
    "    for n in ns:\n",
    "        rN = 0\n",
    "        for _ in range(m):\n",
    "            wynik = abs(monteCarloPi(n) - math.pi/4)\n",
    "            rN += wynik\n",
    "        oszacowania.append(rN/m)\n",
    "    return oszacowania           \n",
    "            "
   ]
  },
  {
   "cell_type": "code",
   "execution_count": 141,
   "metadata": {
    "collapsed": true
   },
   "outputs": [],
   "source": [
    "ns = [10,20,50,100,200,500,1000]\n",
    "m = 100\n",
    "oszacowania = oszacowaniaPi(ns, m)"
   ]
  },
  {
   "cell_type": "code",
   "execution_count": 142,
   "metadata": {},
   "outputs": [
    {
     "data": {
      "image/png": "[encoded data removed]",
      "text/plain": [
       "<matplotlib.figure.Figure at 0xd661588>"
      ]
     },
     "metadata": {},
     "output_type": "display_data"
    }
   ],
   "source": [
    "plt.scatter(ns,oszacowania)\n",
    "plt.show()"
   ]
  },
  {
   "cell_type": "code",
   "execution_count": 143,
   "metadata": {},
   "outputs": [
    {
     "data": {
      "image/png": "[encoded data removed]",
      "text/plain": [
       "<matplotlib.figure.Figure at 0xda88e80>"
      ]
     },
     "metadata": {},
     "output_type": "display_data"
    }
   ],
   "source": [
    "plt.scatter(ns, oszacowania)\n",
    "plt.xscale('log')\n",
    "plt.show()"
   ]
  },
  {
   "cell_type": "markdown",
   "metadata": {},
   "source": [
    "# Zadanie 5"
   ]
  },
  {
   "cell_type": "markdown",
   "metadata": {},
   "source": [
    "Algorytmy Monte Carlo i Las Vegas różnią się tym, że w tym pierwszym dokonujemy losowań i próbujemy dostać przybliżony wynik, natomiast w tym drugim losujemy pewne rozwiązanie i sprawdzamy czy jest ono poprawne."
   ]
  },
  {
   "cell_type": "code",
   "execution_count": 144,
   "metadata": {
    "collapsed": true
   },
   "outputs": [],
   "source": [
    "def isSorted(lista):\n",
    "    \"\"\" Funkcja pomocnicza sprawdzająca czy lista jest posortowana. \"\"\"\n",
    "    for i in range(len(lista)-1):\n",
    "        if lista[i]>lista[i+1]:\n",
    "            return False\n",
    "    return True"
   ]
  },
  {
   "cell_type": "code",
   "execution_count": 145,
   "metadata": {
    "collapsed": true
   },
   "outputs": [],
   "source": [
    "def bogosort(lista):\n",
    "    \"\"\" Algorytm sortujący listę za pomocą metody bogosort. \"\"\"\n",
    "    while not isSorted(lista):\n",
    "        random.shuffle(lista)\n",
    "    return lista"
   ]
  },
  {
   "cell_type": "markdown",
   "metadata": {},
   "source": [
    "Sprawdzenie poprawności działania algorytmu bogosort."
   ]
  },
  {
   "cell_type": "code",
   "execution_count": 146,
   "metadata": {},
   "outputs": [
    {
     "data": {
      "text/plain": [
       "[1, 2, 3, 4, 4, 5]"
      ]
     },
     "execution_count": 146,
     "metadata": {},
     "output_type": "execute_result"
    }
   ],
   "source": [
    "a = [2,1,3,5,4,4]\n",
    "bogosort(a)"
   ]
  },
  {
   "cell_type": "code",
   "execution_count": 147,
   "metadata": {
    "collapsed": true
   },
   "outputs": [],
   "source": [
    "def testBogosort(lista,n):\n",
    "    czasy = []\n",
    "    for _ in range(n):\n",
    "        start = time.time()\n",
    "        bogosort(lista)\n",
    "        czasy.append(time.time() - start)\n",
    "        random.shuffle(lista)\n",
    "    return czasy"
   ]
  },
  {
   "cell_type": "markdown",
   "metadata": {},
   "source": [
    "Czas potrzebny na posortowanie 5-elementowej listy za pomocą algorytmu bogosort."
   ]
  },
  {
   "cell_type": "code",
   "execution_count": 148,
   "metadata": {},
   "outputs": [
    {
     "name": "stdout",
     "output_type": "stream",
     "text": [
      "0.000249600172043\n"
     ]
    }
   ],
   "source": [
    "czasy = testBogosort([2,3,5,1,5], 1000)\n",
    "print(np.mean(czasy))"
   ]
  },
  {
   "cell_type": "markdown",
   "metadata": {},
   "source": [
    "Dodatkowy eksperyment sprawdzający czasy dla dłuższych list."
   ]
  },
  {
   "cell_type": "code",
   "execution_count": 149,
   "metadata": {},
   "outputs": [
    {
     "data": {
      "image/png": "[encoded data removed]",
      "text/plain": [
       "<matplotlib.figure.Figure at 0xd5da7f0>"
      ]
     },
     "metadata": {},
     "output_type": "display_data"
    }
   ],
   "source": [
    "wyniki = []\n",
    "zakres = list(range(3,8))\n",
    "for i in zakres:\n",
    "    lista = list(range(2,i+1))\n",
    "    random.shuffle(lista)\n",
    "    czasy = testBogosort(lista, 1000)\n",
    "    wyniki.append(np.mean(czasy))\n",
    "plt.plot(zakres,wyniki)\n",
    "plt.xticks(zakres)\n",
    "plt.title('Średni czas potrzebny na posortowanie listy x-elementowej.')\n",
    "plt.show()"
   ]
  },
  {
   "cell_type": "markdown",
   "metadata": {},
   "source": [
    "# Zadanie 6"
   ]
  },
  {
   "cell_type": "code",
   "execution_count": 150,
   "metadata": {
    "collapsed": true
   },
   "outputs": [],
   "source": [
    "def oczacowanieZbieznosciCalek(f, a, b, wynik, ns, m = 1000):\n",
    "    \"\"\"\n",
    "    Funkcja oczacowujaca ilosc iteracji potrzebnych do zbiegania całki \n",
    "    z funkcji f na przedziale (a,b) do teoretycznego wyniku.\n",
    "    ns - lista n do sprawdzenia\n",
    "    m - ilosc symulacji Monte Carlo\n",
    "    \"\"\"\n",
    "    rozniceWynikowDlaN = []\n",
    "    for n in ns:\n",
    "        rozniceWynikow = 0\n",
    "        for _ in range(m):\n",
    "            temp = abs(monteCarloIntegral(f, a, b, n) - wynik)\n",
    "            rozniceWynikow += temp\n",
    "        rozniceWynikowDlaN.append(rozniceWynikow/m)\n",
    "    return rozniceWynikowDlaN"
   ]
  },
  {
   "cell_type": "code",
   "execution_count": 151,
   "metadata": {
    "collapsed": true
   },
   "outputs": [],
   "source": [
    "ns = [10, 50, 100, 200, 500, 1000, 2000]"
   ]
  },
  {
   "cell_type": "markdown",
   "metadata": {},
   "source": [
    "Badamy szybkość zbieżności numerycznej $\\int_{0}^{\\pi} sin(x)\\,dx$ do analitycznie wyliczonej wartości 2."
   ]
  },
  {
   "cell_type": "code",
   "execution_count": 152,
   "metadata": {},
   "outputs": [
    {
     "data": {
      "image/png": "[encoded data removed]",
      "text/plain": [
       "<matplotlib.figure.Figure at 0xd26c828>"
      ]
     },
     "metadata": {},
     "output_type": "display_data"
    }
   ],
   "source": [
    "rozniceSin = oczacowanieZbieznosciCalek(math.sin, 0, math.pi, 2, ns)\n",
    "plt.plot(ns,rozniceSin)\n",
    "plt.show()"
   ]
  },
  {
   "cell_type": "markdown",
   "metadata": {},
   "source": [
    "Z powyższego wykresu możemy odczytać, że przy n równym ok. 1000 otrzymujemy bardzo niewielki błąd."
   ]
  },
  {
   "cell_type": "markdown",
   "metadata": {},
   "source": [
    "Analogicznie badamy $\\int_{0}^{1} e^{x}\\,dx = e - 1$"
   ]
  },
  {
   "cell_type": "code",
   "execution_count": 153,
   "metadata": {},
   "outputs": [
    {
     "data": {
      "image/png": "[encoded data removed]",
      "text/plain": [
       "<matplotlib.figure.Figure at 0xd140c50>"
      ]
     },
     "metadata": {},
     "output_type": "display_data"
    }
   ],
   "source": [
    "rozniceExp = oczacowanieZbieznosciCalek(math.exp, 0, 1, (math.exp(1)-1), ns)\n",
    "plt.plot(ns, rozniceExp)\n",
    "plt.show()"
   ]
  },
  {
   "cell_type": "markdown",
   "metadata": {},
   "source": [
    "Z powyższego wykresu odczytujemy, że i w tym przypadku n = 1000 będzie już wystarczające."
   ]
  },
  {
   "cell_type": "markdown",
   "metadata": {},
   "source": [
    "# Zadanie 7"
   ]
  },
  {
   "cell_type": "code",
   "execution_count": 154,
   "metadata": {
    "collapsed": true
   },
   "outputs": [],
   "source": [
    "import numpy as np\n",
    "\n",
    "def cummulativeDistribution(data, x):\n",
    "    \"\"\" Counts value of empirical cummulative distribution of x. \"\"\"\n",
    "    return sum([1 for element in data if element < x])/len(data)\n",
    "\n",
    "def plotECDF(data):\n",
    "    dataToPlot = []\n",
    "    n = len(data)\n",
    "    zakres = np.linspace(1.1*min(data), 1.1*max(data), n)\n",
    "    for i in zakres:\n",
    "        temp = cummulativeDistribution(data, i)\n",
    "        dataToPlot.append(temp)\n",
    "    \n",
    "    plt.scatter(zakres[1:-1], dataToPlot[:-2], s = 10, facecolors='none', edgecolors='k')\n",
    "    # Wycinki wynikają z przesunięcia punktów oraz braku otwartego kółka na końcu.\n",
    "    for i in range(len(dataToPlot) - 1):\n",
    "        x = [zakres[i], zakres[i+1]]\n",
    "        y = [dataToPlot[i], dataToPlot[i]]\n",
    "        plt.plot(x,y, color = 'k')\n",
    "    plt.plot(zakres[-1], dataToPlot[-1])"
   ]
  },
  {
   "cell_type": "markdown",
   "metadata": {},
   "source": [
    "- rozkład wykładniczy $Exp(\\lambda)$"
   ]
  },
  {
   "cell_type": "code",
   "execution_count": 155,
   "metadata": {
    "collapsed": true
   },
   "outputs": [],
   "source": [
    "def exp(lam):\n",
    "    return -math.log(random.random())/lam"
   ]
  },
  {
   "cell_type": "code",
   "execution_count": 156,
   "metadata": {
    "collapsed": true
   },
   "outputs": [],
   "source": [
    "def randomExp(lam, n):\n",
    "    return [exp(lam) for _ in range(n)]"
   ]
  },
  {
   "cell_type": "code",
   "execution_count": 157,
   "metadata": {
    "collapsed": true
   },
   "outputs": [],
   "source": [
    "def testExpDensity(data, lam):\n",
    "    \"\"\" Wykres gęstości empirycznej oraz teoretycznej. \"\"\"\n",
    "    x = np.linspace(exp(0.01), exp(0.99), 100)\n",
    "    plt.plot(x, lam*np.exp(-lam*x), 'r-', alpha=0.6)\n",
    "    \n",
    "    plt.hist(data, normed = True)\n",
    "    \n",
    "    plt.show()"
   ]
  },
  {
   "cell_type": "code",
   "execution_count": 158,
   "metadata": {
    "collapsed": true
   },
   "outputs": [],
   "source": [
    "def testExpCDF(data, lam):\n",
    "    \"\"\" Wykres dystrybuanty empirycznej oraz teoretycznej. \"\"\"\n",
    "    x = np.linspace(exp(0.01),exp(0.99))\n",
    "    plt.plot(x, 1 - np.exp(-lam*x))\n",
    "    \n",
    "    plotECDF(data)\n",
    "    \n",
    "    plt.show()"
   ]
  },
  {
   "cell_type": "code",
   "execution_count": 159,
   "metadata": {
    "collapsed": true
   },
   "outputs": [],
   "source": [
    "from scipy.stats import expon\n",
    "from statsmodels.graphics.gofplots import qqplot\n",
    "\n",
    "def testExpQQplot(data, lam):\n",
    "    data = np.array(data)\n",
    "    qqplot(data, expon, scale = 1/lam, line = '45')\n",
    "    plt.axis('equal')\n",
    "    plt.show()"
   ]
  },
  {
   "cell_type": "code",
   "execution_count": 160,
   "metadata": {
    "collapsed": true
   },
   "outputs": [],
   "source": [
    "def testExpExVar(data, lam):\n",
    "    print('Theoretical mean:', 1/lam)\n",
    "    print('Experimental mean:', np.mean(data))\n",
    "    print('Theoretical Var:', 1/lam**2)\n",
    "    print('Experimental Var:', np.var(data))"
   ]
  },
  {
   "cell_type": "code",
   "execution_count": 161,
   "metadata": {
    "collapsed": true
   },
   "outputs": [],
   "source": [
    "def testExp(lam, n = 1000, data = None):\n",
    "    if not data:\n",
    "        data = randomExp(lam, n)\n",
    "    testExpDensity(data, lam)\n",
    "    testExpCDF(data, lam)\n",
    "    testExpQQplot(data, lam)\n",
    "    testExpExVar(data, lam)"
   ]
  },
  {
   "cell_type": "code",
   "execution_count": 162,
   "metadata": {},
   "outputs": [
    {
     "data": {
      "image/png": "[encoded data removed]",
      "text/plain": [
       "<matplotlib.figure.Figure at 0xd9cd470>"
      ]
     },
     "metadata": {},
     "output_type": "display_data"
    },
    {
     "data": {
      "image/png": "[encoded data removed]",
      "text/plain": [
       "<matplotlib.figure.Figure at 0xd798978>"
      ]
     },
     "metadata": {},
     "output_type": "display_data"
    },
    {
     "data": {
      "image/png": "[encoded data removed]",
      "text/plain": [
       "<matplotlib.figure.Figure at 0xd378b70>"
      ]
     },
     "metadata": {},
     "output_type": "display_data"
    },
    {
     "name": "stdout",
     "output_type": "stream",
     "text": [
      "Theoretical mean: 5.0\n",
      "Experimental mean: 5.00047803814\n",
      "Theoretical Var: 24.999999999999996\n",
      "Experimental Var: 23.3805390633\n"
     ]
    }
   ],
   "source": [
    "data = randomExp(1/5, 1000)\n",
    "testExp(1/5, data = data)"
   ]
  },
  {
   "cell_type": "code",
   "execution_count": 163,
   "metadata": {},
   "outputs": [
    {
     "data": {
      "text/plain": [
       "KstestResult(statistic=0.55132672508256308, pvalue=0.0)"
      ]
     },
     "execution_count": 163,
     "metadata": {},
     "output_type": "execute_result"
    }
   ],
   "source": [
    "from scipy.stats import kstest\n",
    "\n",
    "kstest(data, 'expon')"
   ]
  },
  {
   "cell_type": "markdown",
   "metadata": {},
   "source": [
    "- rozkład normalny $N(\\mu,\\sigma^{2})$"
   ]
  },
  {
   "cell_type": "code",
   "execution_count": 164,
   "metadata": {
    "collapsed": true
   },
   "outputs": [],
   "source": [
    "from scipy.stats import norm\n",
    "\n",
    "def normal(mu,sigma):\n",
    "    return norm.ppf(random.random(), loc = mu, scale = sigma)"
   ]
  },
  {
   "cell_type": "code",
   "execution_count": 165,
   "metadata": {
    "collapsed": true
   },
   "outputs": [],
   "source": [
    "def randomNormal(mu,sigma,n):\n",
    "    return [normal(mu,sigma) for _ in range(n)]"
   ]
  },
  {
   "cell_type": "code",
   "execution_count": 166,
   "metadata": {
    "collapsed": true
   },
   "outputs": [],
   "source": [
    "def testNormalDensity(data, mu, sigma):\n",
    "    \"\"\" Wykres gęstości empirycznej oraz teoretycznej. \"\"\"\n",
    "    x = np.linspace(norm.ppf(0.01, loc = mu, scale = sigma), norm.ppf(0.99, loc = mu, scale = sigma), 100)\n",
    "    plt.plot(x, norm.pdf(x, loc = mu, scale = sigma), 'r-', alpha=0.6)\n",
    "    \n",
    "    plt.hist(data, normed = True)\n",
    "    \n",
    "    plt.show()"
   ]
  },
  {
   "cell_type": "code",
   "execution_count": 167,
   "metadata": {
    "collapsed": true
   },
   "outputs": [],
   "source": [
    "def testNormalCDF(data, mu, sigma):\n",
    "    \"\"\" Wykres dystrybuanty empirycznej oraz teoretycznej. \"\"\"\n",
    "    x = np.linspace(norm.ppf(0.01, loc = mu, scale = sigma), norm.ppf(0.99, loc = mu, scale = sigma), 100)\n",
    "    plt.plot(x, norm.cdf(x, loc = mu, scale = sigma))\n",
    "    \n",
    "    plotECDF(data)\n",
    "    \n",
    "    plt.show()"
   ]
  },
  {
   "cell_type": "code",
   "execution_count": 168,
   "metadata": {
    "collapsed": true
   },
   "outputs": [],
   "source": [
    "def testNormalQQplot(data, mu, sigma):\n",
    "    data = np.array(data)\n",
    "    qqplot(data, norm, loc = mu, scale = sigma, line = '45')\n",
    "    plt.axis('equal')\n",
    "    plt.show()"
   ]
  },
  {
   "cell_type": "code",
   "execution_count": 169,
   "metadata": {
    "collapsed": true
   },
   "outputs": [],
   "source": [
    "def testNormalExVar(data, mu, sigma):\n",
    "    print('Theoretical mean:', norm.mean(loc = mu, scale = sigma))\n",
    "    print('Experimental mean:', np.mean(data))\n",
    "    print('Theoretical Var:', norm.var(loc = mu, scale = sigma))\n",
    "    print('Experimental Var:', np.var(data))"
   ]
  },
  {
   "cell_type": "code",
   "execution_count": 170,
   "metadata": {
    "collapsed": true
   },
   "outputs": [],
   "source": [
    "def testNormal(mu, sigma, n = 1000, data = None):\n",
    "    if not data:\n",
    "        data = randomNormal(mu, sigma, n)\n",
    "    testNormalDensity(data, mu, sigma)\n",
    "    testNormalCDF(data, mu, sigma)\n",
    "    testNormalQQplot(data, mu, sigma)\n",
    "    testNormalExVar(data, mu, sigma)"
   ]
  },
  {
   "cell_type": "code",
   "execution_count": 186,
   "metadata": {},
   "outputs": [
    {
     "data": {
      "image/png": "[encoded data removed]",
      "text/plain": [
       "<matplotlib.figure.Figure at 0xd5f2da0>"
      ]
     },
     "metadata": {},
     "output_type": "display_data"
    },
    {
     "data": {
      "image/png": "[encoded data removed]",
      "text/plain": [
       "<matplotlib.figure.Figure at 0xd22e9e8>"
      ]
     },
     "metadata": {},
     "output_type": "display_data"
    },
    {
     "data": {
      "image/png": "[encoded data removed]",
      "text/plain": [
       "<matplotlib.figure.Figure at 0xd4dc7f0>"
      ]
     },
     "metadata": {},
     "output_type": "display_data"
    },
    {
     "name": "stdout",
     "output_type": "stream",
     "text": [
      "Theoretical mean: 0.0\n",
      "Experimental mean: 0.0206235389211\n",
      "Theoretical Var: 1.0\n",
      "Experimental Var: 0.96824875961\n"
     ]
    }
   ],
   "source": [
    "data = randomNormal(0,1,1000)\n",
    "testNormal(0,1, data = data)"
   ]
  },
  {
   "cell_type": "code",
   "execution_count": 191,
   "metadata": {},
   "outputs": [
    {
     "name": "stdout",
     "output_type": "stream",
     "text": [
      "NormaltestResult(statistic=0.0084026452570595683, pvalue=0.99580749058068629)\n",
      "KstestResult(statistic=0.023525925654786173, pvalue=0.63735065987634187)\n"
     ]
    }
   ],
   "source": [
    "from scipy.stats import normaltest\n",
    "\n",
    "print(normaltest(data))\n",
    "print(kstest(data, 'norm', args = (0,1)))"
   ]
  },
  {
   "cell_type": "markdown",
   "metadata": {},
   "source": [
    "- rozkład $Gamma(a,b)$, gdzie a - parametr kształtu, b - paramter skali"
   ]
  },
  {
   "cell_type": "code",
   "execution_count": 173,
   "metadata": {
    "collapsed": true
   },
   "outputs": [],
   "source": [
    "from scipy.stats import gamma\n",
    "\n",
    "def gama(a,b):\n",
    "    return gamma.ppf(random.random(), a, scale = b)"
   ]
  },
  {
   "cell_type": "code",
   "execution_count": 174,
   "metadata": {
    "collapsed": true
   },
   "outputs": [],
   "source": [
    "def randomGama(a,b,n):\n",
    "    return [gama(a,b) for _ in range(n)]"
   ]
  },
  {
   "cell_type": "code",
   "execution_count": 175,
   "metadata": {
    "collapsed": true
   },
   "outputs": [],
   "source": [
    "def testGamaDensity(data, a, b):\n",
    "    \"\"\" Wykres gęstości empirycznej oraz teoretycznej. \"\"\"\n",
    "    x = np.linspace(gamma.ppf(0.01, a, scale = b), gamma.ppf(0.99, a, scale = b), 100)\n",
    "    plt.plot(x, gamma.pdf(x, a), 'r-', alpha=0.6)\n",
    "    \n",
    "    plt.hist(data, normed = True)\n",
    "    \n",
    "    plt.show()"
   ]
  },
  {
   "cell_type": "code",
   "execution_count": 176,
   "metadata": {
    "collapsed": true
   },
   "outputs": [],
   "source": [
    "def testGamaCDF(data, a, b):\n",
    "    \"\"\" Wykres dystrybuanty empirycznej oraz teoretycznej. \"\"\"\n",
    "    x = np.linspace(gamma.ppf(0.01, a, scale = b), gamma.ppf(0.99, a, scale = b), 100)\n",
    "    plt.plot(x, gamma.cdf(x, a, scale = b))\n",
    "    \n",
    "    plotECDF(data)\n",
    "    \n",
    "    plt.show()"
   ]
  },
  {
   "cell_type": "code",
   "execution_count": 177,
   "metadata": {
    "collapsed": true
   },
   "outputs": [],
   "source": [
    "def testGamaQQplot(data, a, b):\n",
    "    data = np.array(data)\n",
    "    qqplot(data, gamma, distargs=(a,), scale = b, line = '45')\n",
    "    plt.axis('equal')\n",
    "    plt.show()"
   ]
  },
  {
   "cell_type": "code",
   "execution_count": 178,
   "metadata": {
    "collapsed": true
   },
   "outputs": [],
   "source": [
    "def testGamaExVar(data, a, b):\n",
    "    print('Theoretical mean:', gamma.mean(a, scale = b))\n",
    "    print('Experimental mean:', np.mean(data))\n",
    "    print('Theoretical Var:', gamma.var(a, scale = b))\n",
    "    print('Experimental Var:', np.var(data))"
   ]
  },
  {
   "cell_type": "code",
   "execution_count": 179,
   "metadata": {
    "collapsed": true
   },
   "outputs": [],
   "source": [
    "def testGama(a, b, n = 1000, data = None):\n",
    "    if not data:\n",
    "        data = randomGama(a,b,n)\n",
    "    testGamaDensity(data,a,b)\n",
    "    testGamaCDF(data,a,b)\n",
    "    testGamaQQplot(data,a,b)\n",
    "    testGamaExVar(data,a,b)"
   ]
  },
  {
   "cell_type": "code",
   "execution_count": 180,
   "metadata": {},
   "outputs": [
    {
     "data": {
      "image/png": "[encoded data removed]",
      "text/plain": [
       "<matplotlib.figure.Figure at 0xd1a55f8>"
      ]
     },
     "metadata": {},
     "output_type": "display_data"
    },
    {
     "data": {
      "image/png": "[encoded data removed]",
      "text/plain": [
       "<matplotlib.figure.Figure at 0xd9a8da0>"
      ]
     },
     "metadata": {},
     "output_type": "display_data"
    },
    {
     "data": {
      "image/png": "[encoded data removed]",
      "text/plain": [
       "<matplotlib.figure.Figure at 0xd5f6d68>"
      ]
     },
     "metadata": {},
     "output_type": "display_data"
    },
    {
     "name": "stdout",
     "output_type": "stream",
     "text": [
      "Theoretical mean: 1.0\n",
      "Experimental mean: 0.930720777592\n",
      "Theoretical Var: 1.0\n",
      "Experimental Var: 0.864228980566\n"
     ]
    }
   ],
   "source": [
    "data = randomGama(1,1,n = 1000)\n",
    "testGama(1,1, data = data)"
   ]
  },
  {
   "cell_type": "code",
   "execution_count": 181,
   "metadata": {},
   "outputs": [
    {
     "data": {
      "text/plain": [
       "KstestResult(statistic=0.65700000000000003, pvalue=0.0)"
      ]
     },
     "execution_count": 181,
     "metadata": {},
     "output_type": "execute_result"
    }
   ],
   "source": [
    "x = gamma(1,scale = 1).cdf\n",
    "kstest(data, 'gamma', args = (1,1))"
   ]
  },
  {
   "cell_type": "code",
   "execution_count": null,
   "metadata": {
    "collapsed": true
   },
   "outputs": [],
   "source": []
  }
 ],
 "metadata": {
  "kernelspec": {
   "display_name": "Python 3",
   "language": "python",
   "name": "python3"
  },
  "language_info": {
   "codemirror_mode": {
    "name": "ipython",
    "version": 3
   },
   "file_extension": ".py",
   "mimetype": "text/x-python",
   "name": "python",
   "nbconvert_exporter": "python",
   "pygments_lexer": "ipython3",
   "version": "3.6.3"
  }
 },
 "nbformat": 4,
 "nbformat_minor": 2
}

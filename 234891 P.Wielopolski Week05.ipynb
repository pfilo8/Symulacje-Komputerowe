{
 "cells": [
  {
   "cell_type": "markdown",
   "metadata": {},
   "source": [
    "# Zadanie 14"
   ]
  },
  {
   "cell_type": "code",
   "execution_count": 2,
   "metadata": {
    "collapsed": true
   },
   "outputs": [],
   "source": [
    "import time\n",
    "import matplotlib.pyplot as plt\n",
    "import numpy as np"
   ]
  },
  {
   "cell_type": "code",
   "execution_count": 3,
   "metadata": {
    "collapsed": true
   },
   "outputs": [],
   "source": [
    "def generate(m,n):\n",
    "    x0 = int(time.time())\n",
    "    #m = 16572\n",
    "    a = 7821\n",
    "    \n",
    "    toReturn = [(a*x0+1)%m]\n",
    "    for _ in range(n-1):\n",
    "        toReturn.append((a*toReturn[-1]+1)%m)\n",
    "    return toReturn"
   ]
  },
  {
   "cell_type": "code",
   "execution_count": 4,
   "metadata": {},
   "outputs": [
    {
     "name": "stdout",
     "output_type": "stream",
     "text": [
      "EX =  2172.7\n",
      "VarX =  1552767.57\n"
     ]
    },
    {
     "data": {
      "image/png": "[encoded data removed]",
      "text/plain": [
       "<matplotlib.figure.Figure at 0x8f83748>"
      ]
     },
     "metadata": {},
     "output_type": "display_data"
    }
   ],
   "source": [
    "data = generate(4320,1000)\n",
    "print('EX = ', np.mean(data))\n",
    "print('VarX = ', np.var(data))\n",
    "plt.hist(data, density = True)\n",
    "plt.show()"
   ]
  },
  {
   "cell_type": "code",
   "execution_count": 5,
   "metadata": {
    "collapsed": true
   },
   "outputs": [],
   "source": [
    "def generateV2(n):\n",
    "    x0 = 0\n",
    "    m = 381\n",
    "    a = 19\n",
    "    \n",
    "    toReturn = [(a*x0+1)%m]\n",
    "    for _ in range(n-1):\n",
    "        toReturn.append((a*toReturn[-1]+1)%m)\n",
    "    return toReturn"
   ]
  },
  {
   "cell_type": "code",
   "execution_count": 6,
   "metadata": {},
   "outputs": [
    {
     "name": "stdout",
     "output_type": "stream",
     "text": [
      "[1, 20, 0, 1, 20, 0, 1, 20, 0, 1, 20, 0, 1, 20, 0, 1, 20, 0, 1, 20, 0, 1, 20, 0, 1, 20, 0, 1, 20, 0, 1, 20, 0, 1, 20, 0, 1, 20, 0, 1, 20, 0, 1, 20, 0, 1, 20, 0, 1, 20, 0, 1, 20, 0, 1, 20, 0, 1, 20, 0, 1, 20, 0, 1, 20, 0, 1, 20, 0, 1, 20, 0, 1, 20, 0, 1, 20, 0, 1, 20, 0, 1, 20, 0, 1, 20, 0, 1, 20, 0, 1, 20, 0, 1, 20, 0, 1, 20, 0, 1]\n"
     ]
    }
   ],
   "source": [
    "dane = generateV2(100)\n",
    "print(dane)"
   ]
  },
  {
   "cell_type": "markdown",
   "metadata": {},
   "source": [
    "# Zadanie 15"
   ]
  },
  {
   "cell_type": "code",
   "execution_count": 7,
   "metadata": {
    "collapsed": true
   },
   "outputs": [],
   "source": [
    "def fibonacciGenerator(n):\n",
    "    toReturn = [1,1]\n",
    "    m = 27111\n",
    "    \n",
    "    for _ in range(n-2):\n",
    "        toReturn.append((toReturn[-2] + toReturn[-1])%m)\n",
    "    return toReturn"
   ]
  },
  {
   "cell_type": "code",
   "execution_count": 8,
   "metadata": {},
   "outputs": [
    {
     "name": "stdout",
     "output_type": "stream",
     "text": [
      "EX =  13495.2489\n",
      "VarX =  65564745.9467\n"
     ]
    },
    {
     "data": {
      "image/png": "[encoded data removed]",
      "text/plain": [
       "<matplotlib.figure.Figure at 0x952b400>"
      ]
     },
     "metadata": {},
     "output_type": "display_data"
    }
   ],
   "source": [
    "data = fibonacciGenerator(10000)\n",
    "print('EX = ', np.mean(data))\n",
    "print('VarX = ', np.var(data))\n",
    "plt.hist(data, density = True)\n",
    "plt.show()"
   ]
  },
  {
   "cell_type": "markdown",
   "metadata": {},
   "source": [
    "# Zadanie 16"
   ]
  },
  {
   "cell_type": "code",
   "execution_count": 21,
   "metadata": {
    "collapsed": true
   },
   "outputs": [],
   "source": [
    "import math\n",
    "\n",
    "def generujPoissona(lam,n):\n",
    "    uniform = fiboUniform(n+1)[1:]\n",
    "    toReturn = []\n",
    "    for i in range(n):\n",
    "        j = 0\n",
    "        p = math.exp(-lam)\n",
    "        F = p\n",
    "        u = uniform[i]\n",
    "        while u > F:\n",
    "            p *= lam/(j+1)\n",
    "            F += p\n",
    "            j += 1\n",
    "        toReturn.append(j)\n",
    "    return toReturn"
   ]
  },
  {
   "cell_type": "code",
   "execution_count": 62,
   "metadata": {
    "collapsed": true
   },
   "outputs": [],
   "source": [
    "pois = generujPoissona(1, 1000000)"
   ]
  },
  {
   "cell_type": "code",
   "execution_count": 63,
   "metadata": {},
   "outputs": [
    {
     "data": {
      "image/png": "[encoded data removed]",
      "text/plain": [
       "<matplotlib.figure.Figure at 0xd59b9e8>"
      ]
     },
     "metadata": {},
     "output_type": "display_data"
    }
   ],
   "source": [
    "mu = 1\n",
    "x = np.arange(poisson.ppf(0.01, mu), poisson.ppf(0.99, mu))\n",
    "plt.plot(x, poisson.pmf(x, mu), 'ro', ms=8, label='teoretical')\n",
    "\n",
    "maxPois = max(pois)\n",
    "points = [pois.count(number)/len(pois) for number in range(maxPois)]\n",
    "plt.scatter(list(range(maxPois)), points, label = 'empirical')\n",
    "\n",
    "plt.legend()\n",
    "plt.show()"
   ]
  },
  {
   "cell_type": "markdown",
   "metadata": {},
   "source": [
    "# Zadanie 17"
   ]
  },
  {
   "cell_type": "code",
   "execution_count": 9,
   "metadata": {
    "collapsed": true
   },
   "outputs": [],
   "source": [
    "def fiboUniform(n):\n",
    "    toReturn = [1,1]\n",
    "    m = 27111\n",
    "    \n",
    "    for _ in range(n-2):\n",
    "        toReturn.append((toReturn[-2] + toReturn[-1])%m)\n",
    "    return [el/m for el in toReturn]"
   ]
  },
  {
   "cell_type": "code",
   "execution_count": 10,
   "metadata": {
    "collapsed": true
   },
   "outputs": [],
   "source": [
    "fiboLosowe = fiboUniform(10000)"
   ]
  },
  {
   "cell_type": "code",
   "execution_count": 11,
   "metadata": {},
   "outputs": [
    {
     "name": "stdout",
     "output_type": "stream",
     "text": [
      "EX =  0.497777614253\n",
      "VarX =  0.0892029688364\n"
     ]
    },
    {
     "data": {
      "image/png": "[encoded data removed]",
      "text/plain": [
       "<matplotlib.figure.Figure at 0x97c4748>"
      ]
     },
     "metadata": {},
     "output_type": "display_data"
    }
   ],
   "source": [
    "print('EX = ', np.mean(fiboLosowe))\n",
    "print('VarX = ', np.var(fiboLosowe))\n",
    "plt.hist(fiboLosowe, density = True)\n",
    "plt.show()"
   ]
  },
  {
   "cell_type": "code",
   "execution_count": 12,
   "metadata": {
    "collapsed": true
   },
   "outputs": [],
   "source": [
    "from statsmodels.graphics.gofplots import qqplot\n",
    "from scipy.stats import uniform\n",
    "\n",
    "def testQQplot(data):\n",
    "    data = np.array(data)\n",
    "    qqplot(data, uniform, line = '45')\n",
    "    plt.axis('equal')\n",
    "    plt.show()"
   ]
  },
  {
   "cell_type": "code",
   "execution_count": 13,
   "metadata": {},
   "outputs": [
    {
     "data": {
      "image/png": "[encoded data removed]",
      "text/plain": [
       "<matplotlib.figure.Figure at 0x9815cf8>"
      ]
     },
     "metadata": {},
     "output_type": "display_data"
    }
   ],
   "source": [
    "testQQplot(fiboLosowe)"
   ]
  },
  {
   "cell_type": "code",
   "execution_count": 14,
   "metadata": {
    "collapsed": true
   },
   "outputs": [],
   "source": [
    "from scipy.stats import kstest"
   ]
  },
  {
   "cell_type": "code",
   "execution_count": 15,
   "metadata": {},
   "outputs": [
    {
     "data": {
      "text/plain": [
       "KstestResult(statistic=0.025564199033602575, pvalue=4.2126516453693904e-06)"
      ]
     },
     "execution_count": 15,
     "metadata": {},
     "output_type": "execute_result"
    }
   ],
   "source": [
    "kstest(fiboLosowe, 'uniform')"
   ]
  },
  {
   "cell_type": "code",
   "execution_count": null,
   "metadata": {
    "collapsed": true
   },
   "outputs": [],
   "source": []
  }
 ],
 "metadata": {
  "kernelspec": {
   "display_name": "Python 3",
   "language": "python",
   "name": "python3"
  },
  "language_info": {
   "codemirror_mode": {
    "name": "ipython",
    "version": 3
   },
   "file_extension": ".py",
   "mimetype": "text/x-python",
   "name": "python",
   "nbconvert_exporter": "python",
   "pygments_lexer": "ipython3",
   "version": "3.6.3"
  }
 },
 "nbformat": 4,
 "nbformat_minor": 2
}

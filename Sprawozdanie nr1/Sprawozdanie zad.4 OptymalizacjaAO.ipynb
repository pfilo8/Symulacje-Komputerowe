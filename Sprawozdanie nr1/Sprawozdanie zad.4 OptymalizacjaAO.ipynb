{
 "cells": [
  {
   "cell_type": "markdown",
   "metadata": {},
   "source": [
    "# Zadanie 4\n",
    "## Optymalizacja metody akceptacji-odrzucenia"
   ]
  },
  {
   "cell_type": "code",
   "execution_count": 2,
   "metadata": {
    "collapsed": true
   },
   "outputs": [],
   "source": [
    "import random\n",
    "import matplotlib.pyplot as plt\n",
    "import numpy as np\n",
    "import math\n",
    "from scipy.stats import kstest\n",
    "from scipy.stats.mstats import normaltest\n",
    "from scipy.optimize import fmin, fminbound\n",
    "from scipy.integrate import quad\n",
    "import time\n",
    "from scipy.stats import ks_2samp\n",
    "\n",
    "plt.style.use('ggplot')"
   ]
  },
  {
   "cell_type": "code",
   "execution_count": 3,
   "metadata": {
    "collapsed": true
   },
   "outputs": [],
   "source": [
    "def generation(x_vector, a_vector, p_vector, m, value=1):\n",
    "    if value == 1:\n",
    "        x_n = x_vector[0]\n",
    "        for i in range(1, len(x_vector) - 1):\n",
    "            x_n += a_vector[i]*x_vector[i]**p_vector[i]\n",
    "        return int(x_n % m)\n",
    "    result = []\n",
    "    for _ in range(value):\n",
    "        x_n = x_vector[0]\n",
    "        for i in range(1, len(x_vector) - 1):\n",
    "            x_n += a_vector[i]*x_vector[i]**p_vector[i]\n",
    "        x_n = int(x_n % m)\n",
    "        result.append(x_n)\n",
    "        for i in range(len(x_vector)-1):\n",
    "            x_vector[i] = x_vector[i+1]\n",
    "        x_vector[-1] = x_n\n",
    "    \n",
    "    return result"
   ]
  },
  {
   "cell_type": "code",
   "execution_count": 4,
   "metadata": {
    "collapsed": true
   },
   "outputs": [],
   "source": [
    "def uniform_generator(a=0, b=1, value=1):\n",
    "    out = []\n",
    "    m = 1/(5**(-303))\n",
    "    a_vector = [m*2**87, m*3**64, m*5**76]\n",
    "    p_vector = [0.05738, 1.5646, 1.23456]\n",
    "    for _ in range(value):\n",
    "        x_n = [time.clock()%400, time.clock() % 400, time.time()]\n",
    "        if value == 1:\n",
    "            return a + generation(x_n, a_vector, p_vector, m)/(m-1)*(b-a)\n",
    "        out.append(a + generation(x_n, a_vector, p_vector, m)/(m-1)*(b-a))\n",
    "    return out"
   ]
  },
  {
   "cell_type": "code",
   "execution_count": 5,
   "metadata": {
    "collapsed": true
   },
   "outputs": [],
   "source": [
    "def akceptacjaOdrzucenieCiagla(f, a, b, *args):\n",
    "    M = f(fminbound(lambda x: -f(x, *args),a,b), *args)\n",
    "    while True:\n",
    "        u1 = uniform_generator(a,b)\n",
    "        u2 = uniform_generator(0,M)\n",
    "        if u2 <= f(u1, *args):\n",
    "            return u1    "
   ]
  },
  {
   "cell_type": "code",
   "execution_count": 6,
   "metadata": {
    "collapsed": true
   },
   "outputs": [],
   "source": [
    "def generujAOC(f, a, b, n = 1000, *args):\n",
    "    return [akceptacjaOdrzucenieCiagla(f, a, b, *args) for _ in range(n)]"
   ]
  },
  {
   "cell_type": "code",
   "execution_count": 7,
   "metadata": {
    "collapsed": true
   },
   "outputs": [],
   "source": [
    "def plotGestoscEmpiryczna(wyniki):\n",
    "    plt.hist(wyniki, density = True)"
   ]
  },
  {
   "cell_type": "code",
   "execution_count": 8,
   "metadata": {
    "collapsed": true
   },
   "outputs": [],
   "source": [
    "def plotGestoscTeoretyczna(f, a, b, *args):\n",
    "    x = np.linspace(a,b,100)\n",
    "    y = [f(t, *args) for t in x]\n",
    "    plt.plot(x, y)"
   ]
  },
  {
   "cell_type": "code",
   "execution_count": 9,
   "metadata": {
    "collapsed": true
   },
   "outputs": [],
   "source": [
    "def plotCDF(f, a, b, *args):\n",
    "    zakres = np.linspace(a,b)\n",
    "    wyniki = [quad(f,a,x, args = args)[0] for x in zakres]\n",
    "    plt.plot(zakres,wyniki)"
   ]
  },
  {
   "cell_type": "code",
   "execution_count": 10,
   "metadata": {
    "collapsed": true
   },
   "outputs": [],
   "source": [
    "def testuj(f, a, b, *args, n = 1000):\n",
    "    pierwszeWyniki = generujAOC(f, a, b, n, *args)\n",
    "    \n",
    "    plt.figure(figsize = (14,6))\n",
    "    \n",
    "    plt.subplot(1,2,1)\n",
    "    plotGestoscEmpiryczna(pierwszeWyniki)\n",
    "    plotGestoscTeoretyczna(f, a, b, *args)\n",
    "    plt.title('Density')\n",
    "    \n",
    "    plt.subplot(1,2,2)\n",
    "    plotECDF(pierwszeWyniki)\n",
    "    plotCDF(f, a, b, *args)\n",
    "    plt.title('ECDF vs. CDF')\n",
    "    plt.show()\n",
    "    \n",
    "    print('Mean = ',np.mean(pierwszeWyniki))\n",
    "    print('Std = ',np.std(pierwszeWyniki))"
   ]
  },
  {
   "cell_type": "code",
   "execution_count": 11,
   "metadata": {
    "collapsed": true
   },
   "outputs": [],
   "source": [
    "def optymalnyAO():\n",
    "    M = 1/math.sqrt(3)\n",
    "    while True:\n",
    "        u1 = uniform_generator(0,math.pi)\n",
    "        u2 = uniform_generator(0,M)\n",
    "        if u2 <= f(u1):\n",
    "            return u1 "
   ]
  },
  {
   "cell_type": "code",
   "execution_count": 12,
   "metadata": {
    "collapsed": true
   },
   "outputs": [],
   "source": [
    "def generujProbke(n = 10**4):\n",
    "    return [optymalnyAO() for _ in range(n)]"
   ]
  },
  {
   "cell_type": "code",
   "execution_count": 13,
   "metadata": {
    "collapsed": true
   },
   "outputs": [],
   "source": [
    "def opt(n = 1000):\n",
    "    M = math.ceil(math.sqrt(3))\n",
    "    losoweU1 = np.array(uniform_generator(0, math.pi, M*n))\n",
    "    losoweU2 = np.array(uniform_generator(0, 1/M, M*n))\n",
    "    data = losoweU1[losoweU2 <= f(losoweU1)]\n",
    "    length = len(data)\n",
    "    if length >= n:\n",
    "        return data[:n]\n",
    "    else:\n",
    "        toAppend = []\n",
    "        print('Zabrakło')\n",
    "        for _ in range(length - n):\n",
    "            toAppend.append(optymalnyAO())\n",
    "        return list(data).extend(toAppend)"
   ]
  },
  {
   "cell_type": "code",
   "execution_count": 14,
   "metadata": {
    "collapsed": true
   },
   "outputs": [],
   "source": [
    "def f(x):\n",
    "    return 3*np.sin(x)*(np.cos(x))**2/2"
   ]
  },
  {
   "cell_type": "code",
   "execution_count": 15,
   "metadata": {
    "collapsed": true
   },
   "outputs": [],
   "source": [
    "def qqplot(data1, data2):\n",
    "    x = list(range(1,99))\n",
    "    percentile1 = np.percentile(data1,x)\n",
    "    percentile2 = np.percentile(data2,x)\n",
    "    plt.title(\"QQPlot\")\n",
    "    plt.plot(percentile1,percentile2)\n",
    "    plt.plot([min(data1), max(data1)], [min(data2),max(data2)], '--', alpha = 0.5)"
   ]
  },
  {
   "cell_type": "code",
   "execution_count": 16,
   "metadata": {
    "collapsed": true
   },
   "outputs": [],
   "source": [
    "def testKS2samp(t = 100):\n",
    "    good = 0\n",
    "    alfa = 0.05\n",
    "    for _ in range(t):\n",
    "        data = opt(10**3)\n",
    "        dataTeoretical = generujProbke(n = 10**3)\n",
    "        p_value = ks_2samp(data, dataTeoretical)[1]\n",
    "        if p_value >= alfa:\n",
    "            good += 1\n",
    "    return good/t"
   ]
  },
  {
   "cell_type": "code",
   "execution_count": 17,
   "metadata": {
    "collapsed": true
   },
   "outputs": [],
   "source": [
    "def testuj(data, f, a, b): \n",
    "    plt.figure(figsize = (14,6))\n",
    "    \n",
    "    plt.subplot(1,2,1)\n",
    "    plotGestoscEmpiryczna(data)\n",
    "    plotGestoscTeoretyczna(f, a, b)\n",
    "    plt.title('Density')\n",
    "    \n",
    "    plt.subplot(1,2,2)\n",
    "    dataTeoretical = generujProbke(n = 10**6)\n",
    "    qqplot(data,dataTeoretical)\n",
    "    \n",
    "    plt.show()"
   ]
  },
  {
   "cell_type": "markdown",
   "metadata": {},
   "source": [
    "# 1. Wstęp teoretyczny\n",
    "\n",
    "Metoda akceptacji-odrzucenia jest to jedna z najbardziej podstawowych metod generowania zmiennych losowych o rozkładzie zadanym pewną funkcją gęstości. \n",
    "\n",
    "## Akceptacja-odrzucenie:\n",
    "Chcemy wygenerwoać zmienną losową X o gęstości $f(x)$.\n",
    "\n",
    "Założenia:\n",
    "1. Potrafimy generować zmienną losową Y z rozkładu o gęstości g(x). X i Y przyjmują wartości z tego samego zbioru.\n",
    "2. Potrafimy wyznaczyć stałą $c = \\sup\\limits_{x}\\frac{f(x)}{g(x)}$.\n",
    "\n",
    "Algorytm:\n",
    "1. Generuj $Y$.\n",
    "2. Generuj $U \\sim U(0,1)$. $U$ jest niezależne z $Y$.\n",
    "3. Jeśli $ U \\leq \\frac{f(Y)}{cg(Y)}$, to zwróć X = Y. W przeciwnym razie wróć do 1.\n",
    "\n",
    "\n",
    "\n",
    "Celem tego zadania jest optymalizacj metody akceptacji-odrzucenia generowania zmiennej losowej z rozkładu o gęstości zadanej wzorem $f(x) = \\frac{3}{2}sin(x)cos^2(x)$.  Wyznaczmy zatem stałą $c$ dla naszego przypadku."
   ]
  },
  {
   "cell_type": "markdown",
   "metadata": {},
   "source": [
    "**Lemat 1.** Dla rozkładu $f(x) = \\frac{3}{2}sin(x)cos^2(x)$ opartego na rozkładzie jednostajnym $U(0,\\pi)$ stała c wynosi $\\frac{\\pi}{\\sqrt{3}}$.\n",
    "\n",
    "**Dowód:** Przypomnijmy, że gęstość rozkładu jednostajnego $U(0,\\pi)$ wynosi $g(x) = \\frac{1}{\\pi}$ dla $x\\in[0,\\pi]$\n",
    "\n",
    "Musimy zatem policzyć \n",
    "$$ c = \\sup\\limits_{x}\\frac{\\frac{3}{2}sin(x)cos^2(x)}{\\frac{1}{\\pi}}  = \\sup\\limits_{x}\\frac{3\\pi sin(x)cos^2(x)}{2} = \\dots $$\n",
    "\n",
    "Jako sprytni studenci skorzystaliśmy z wiedzy tajemnych magów spod znaku Wolfram:\n",
    "\n",
    "https://www.wolframalpha.com/input/?i=supremum+of+3pisin(x)cos%5E2(x)%2F2\n",
    "\n",
    "i otrzymaliśmy, że:\n",
    "\n",
    "$$ ... = \\frac{\\pi}{\\sqrt{3}} $$"
   ]
  },
  {
   "cell_type": "markdown",
   "metadata": {},
   "source": [
    "Posiadają powyższą wiedzę możemy uprościć nasz algorytm i dostosować do naszych potrzeb.\n",
    "\n",
    "$$\\frac{f(Y)}{cg(Y)} = \\frac{f(Y)}{\\frac{\\pi}{\\sqrt{3}}\\frac{1}{\\pi}} = \\sqrt{3}f(Y)$$\n",
    "\n",
    "Zatem $ U \\leq  \\sqrt{3}f(Y) $, czyli możemy zapisać, że $\\frac{U}{\\sqrt{3}} \\leq f(Y)$. A zatem ostatecznie $Z \\leq f(Y)$, gdzie $ Z \\sim U(0,\\frac{1}{\\sqrt{3}})$.\n",
    "\n",
    "Ostateczny algorytm:\n",
    "\n",
    "1. Generuj $Y \\sim U(0,\\pi)$.\n",
    "2. Generuj $Z \\sim U(0,\\frac{1}{\\sqrt{3}})$.\n",
    "3. Jeżeli $ Z \\leq f(Y) $, to zwróć X = Y. W przeciwnym razie wróć do 1."
   ]
  },
  {
   "cell_type": "markdown",
   "metadata": {},
   "source": [
    "__Lemat 2.__ Jeśli $U$ jest zmienną losową o rozkładzie $U(0,1)$, to zmienna losowa $V=U^n$ ma rozkład $B(\\frac{1}{n},1)$._\n",
    "\n",
    "__Dowód:__\n",
    "Niech $U \\sim U(0,1)$ oraz $V=U^n$. Chcemy pokazać, że $ V \\sim B(\\frac{1}{n},1)$. Przypomnijmy zatem postać gestości rozkładu $B(\\alpha,\\beta)$:\n",
    "$$f(x) = \\frac{x^{\\alpha-1}(1-x)^{\\beta-1}} {B(\\alpha,\\beta)}\\!,$$\n",
    "gdzie $B(\\alpha,\\beta) = \\frac{\\Gamma(\\alpha)\\Gamma(\\beta)}{\\Gamma(\\alpha + \\beta)}$.\n",
    "\n",
    "\n",
    "W naszym przypadku gęstość przyjmie postać:\n",
    "$$f(x) = \\frac{x^{\\frac{1}{n}-1}} {B(\\frac{1}{n},1)},$$\n",
    "\n",
    "Ale $B(\\frac{1}{n},1) = \\frac{(\\frac{1}{n} - 1)!(1-1)!}{(\\frac{1}{n} + 1 - 1)!} = \\frac{(\\frac{1}{n} - 1)!}{(\\frac{1}{n})!} = \\frac{(\\frac{1}{n} - 1)!}{(\\frac{1}{n} - 1)!\\frac{1}{n}} = n $\n",
    "\n",
    "Zatem ostatecznie nasza gęstość przyjmie postać:\n",
    "\n",
    "$$f(x) = \\frac{x^{\\frac{1}{n}-1}} {n}$$\n",
    "\n",
    "Policzmy zatem $F_V(v)$:\n",
    "\n",
    "$$F_V(v) = P(V<v) = P(U^n<v) = P(U<\\sqrt[n]{v}) = F_U(\\sqrt[n]{v})$$\n",
    "\n",
    "Stąd:\n",
    "\n",
    "$$f_V(v) = F^{\\prime}_{V}(v) = F^{\\prime}_{U}(\\sqrt[n]{v}) = \\frac{v^{\\frac{1}{n} -1}}{n}$$\n",
    "\n",
    "Zatem $ V \\sim B(\\frac{1}{n},1)$."
   ]
  },
  {
   "cell_type": "markdown",
   "metadata": {},
   "source": [
    "__Dwustronny test Kołmogorova-Smirnova__ \n",
    "\n",
    "Jest to test analogiczny do opisanego w zadaniu 3 testu Kołmogorova-Smirnova(jednostronnego). Różnica polega na tym, że zamiast dystrybuanty teoretycznej bierzemy dystrybuantę empiryczną drugiego zestawu danych.\n"
   ]
  },
  {
   "cell_type": "markdown",
   "metadata": {},
   "source": [
    "# 2. Problem badawczy\n",
    "Wyjściowym algorytmem, który będziemy optymalizować jest algorytm z zadania 10, którego kod znajduje się powyżej. Jedną z metod optymalizacji algorytmu jest znalezienie takiego nośnika prawdopodobieństwa, na którym będzie bazować, aby stała c, była jak najmniejsza. Inną z metod jest wykorzystanie specyfiki danego języka i optymalizacja struktury danych, na której operujemy. "
   ]
  },
  {
   "cell_type": "markdown",
   "metadata": {},
   "source": [
    "# 3. Wyniki"
   ]
  },
  {
   "cell_type": "markdown",
   "metadata": {},
   "source": [
    "Nasze próby optymalizacji algorytmu rozpoczęliśmy od znalezienia rozkładu, którego gęstość jest podobna do naszej wyjściowej gęstości. Po dłuższych próbach sztuka ta udała się, lecz wstępne wyniki badań szybkości algorytmu były tak słabe, że nie przytaczamy tego rozwiązania w tym sprawozdaniu. Metodą, na której się skupimy, będzie wykorzystanie specyfiki języka *Python* oraz wykorzystanie biblioteki *NumPy*, która zapewnia nam operacje na macierzach."
   ]
  },
  {
   "cell_type": "markdown",
   "metadata": {},
   "source": [
    "Zmierzmy czas generowania $10^4$ zmiennych losowych z tego rozkładu:"
   ]
  },
  {
   "cell_type": "code",
   "execution_count": 18,
   "metadata": {},
   "outputs": [
    {
     "name": "stdout",
     "output_type": "stream",
     "text": [
      "Czas generowania z wyjściowego algorytmu: 2.589604616165161\n",
      "Czas generowania z wstawionym M: 0.14039993286132812\n",
      "Czas generowania z optymalizacją: 0.10920023918151855\n"
     ]
    }
   ],
   "source": [
    "start = time.time()\n",
    "data = generujAOC(f, 0, math.pi, 10**4)\n",
    "print('Czas generowania z wyjściowego algorytmu:', time.time() - start)\n",
    "\n",
    "start = time.time()\n",
    "data = generujProbke(10**4)\n",
    "print('Czas generowania z wstawionym M:', time.time() - start)\n",
    "\n",
    "start = time.time()\n",
    "data = opt(10**4)\n",
    "print('Czas generowania z optymalizacją:', time.time() - start)"
   ]
  },
  {
   "cell_type": "markdown",
   "metadata": {},
   "source": [
    "Widzimy znaczną poprawę działania algorytmu po wstawieniu odpowiedniego $c$ do algorytmu.\n",
    "\n",
    "Sprawdźmy zatem jaki średni czas ma nasz algorytm na próbce o rząd większej:"
   ]
  },
  {
   "cell_type": "code",
   "execution_count": 19,
   "metadata": {},
   "outputs": [
    {
     "name": "stdout",
     "output_type": "stream",
     "text": [
      "0.848641490936\n"
     ]
    }
   ],
   "source": [
    "czasy = []\n",
    "for _ in range(10):\n",
    "    start = time.time()\n",
    "    opt(10**5)\n",
    "    czasy.append(time.time() - start)\n",
    "print(np.mean(czasy))"
   ]
  },
  {
   "cell_type": "markdown",
   "metadata": {},
   "source": [
    "Sprawdzamy jeszcze poprawność generowanych liczb na histogramie oraz na QQPlot generowanym przez próbki z rozkładu zoptymalizowanego z rozkładem wyjściowym z zajęć. Ponadto wykorzystujemy dwustronny test Kołmogorowa-Smirnova z poziomem istotności $\\alpha=0.05$ do sprawdzenia, czy próbki faktycznie pochodzą z tych samych rozkładów."
   ]
  },
  {
   "cell_type": "code",
   "execution_count": 20,
   "metadata": {},
   "outputs": [
    {
     "data": {
      "image/png": "[encoded data removed]",
      "text/plain": [
       "<matplotlib.figure.Figure at 0x96fb278>"
      ]
     },
     "metadata": {},
     "output_type": "display_data"
    }
   ],
   "source": [
    "data = opt(10**5)\n",
    "\n",
    "testuj(data, f, 0, math.pi)"
   ]
  },
  {
   "cell_type": "code",
   "execution_count": 21,
   "metadata": {},
   "outputs": [
    {
     "data": {
      "text/plain": [
       "0.94"
      ]
     },
     "execution_count": 21,
     "metadata": {},
     "output_type": "execute_result"
    }
   ],
   "source": [
    "testKS2samp()"
   ]
  },
  {
   "cell_type": "markdown",
   "metadata": {},
   "source": [
    "Z powyższych wyników możemy uznać, że algorytmy generują ten sam rozkład. Jedynie możemy zauważyć, że pojawiają się pewne odstępstwa dla liczb w okolicach 1.5, gdzie gęstość przyjmuje wartości bliskie 0. Natomiast test statystyczny potwierdził, że te różnice są statystycznie nieistotne."
   ]
  },
  {
   "cell_type": "markdown",
   "metadata": {},
   "source": [
    "Jako ciekawostkę chcielibyśmy dodać, że korzystając z wbudowanej w bibliotece *numpy* funkcji generującej całą listę liczb pseudolosowych udało nam się uzyskać czas ok. 0.2s dla próbki o długości $10^6$"
   ]
  }
 ],
 "metadata": {
  "kernelspec": {
   "display_name": "Python 3",
   "language": "python",
   "name": "python3"
  },
  "language_info": {
   "codemirror_mode": {
    "name": "ipython",
    "version": 3
   },
   "file_extension": ".py",
   "mimetype": "text/x-python",
   "name": "python",
   "nbconvert_exporter": "python",
   "pygments_lexer": "ipython3",
   "version": "3.6.3"
  }
 },
 "nbformat": 4,
 "nbformat_minor": 2
}

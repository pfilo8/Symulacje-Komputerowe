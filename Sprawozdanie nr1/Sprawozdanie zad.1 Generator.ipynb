{
 "cells": [
  {
   "cell_type": "markdown",
   "metadata": {},
   "source": [
    "# Zadanie 1\n",
    "## Generator liczb pseudolosowych"
   ]
  },
  {
   "cell_type": "code",
   "execution_count": 1,
   "metadata": {
    "collapsed": true
   },
   "outputs": [],
   "source": [
    "import time\n",
    "import matplotlib.pyplot as plt\n",
    "import random\n",
    "import scipy.stats\n",
    "import numpy as np\n",
    "plt.style.use('ggplot') "
   ]
  },
  {
   "cell_type": "code",
   "execution_count": 2,
   "metadata": {
    "collapsed": true
   },
   "outputs": [],
   "source": [
    "def generation(x_vector, a_vector, p_vector, m, value=1):\n",
    "    if value == 1:\n",
    "        x_n = x_vector[0]\n",
    "        for i in range(1, len(x_vector) - 1):\n",
    "            x_n += a_vector[i]*x_vector[i]**p_vector[i]\n",
    "        return int(x_n % m)\n",
    "    result = []\n",
    "    for _ in range(value):\n",
    "        x_n = x_vector[0]\n",
    "        for i in range(1, len(x_vector) - 1):\n",
    "            x_n += a_vector[i]*x_vector[i]**p_vector[i]\n",
    "        x_n = int(x_n % m)\n",
    "        result.append(x_n)\n",
    "        for i in range(len(x_vector)-1):\n",
    "            x_vector[i] = x_vector[i+1]\n",
    "        x_vector[-1] = x_n\n",
    "    \n",
    "    return result"
   ]
  },
  {
   "cell_type": "code",
   "execution_count": 3,
   "metadata": {
    "collapsed": true
   },
   "outputs": [],
   "source": [
    "def uniform_generator(a=0, b=1, value=1):\n",
    "    out = []\n",
    "    m = 1/(5**(-303))\n",
    "    a_vector = [m*2**87, m*3**64, m*5**76]\n",
    "    p_vector = [0.05738, 1.5646, 1.23456]\n",
    "    for _ in range(value):\n",
    "        x_n = [time.clock()%400, time.clock() % 400, time.time()]\n",
    "        if value == 1:\n",
    "            return a + generation(x_n, a_vector, p_vector, m)/(m-1)*(b-a)\n",
    "        out.append(a + generation(x_n, a_vector, p_vector, m)/(m-1)*(b-a))\n",
    "    return out"
   ]
  },
  {
   "cell_type": "markdown",
   "metadata": {},
   "source": [
    "# 1.Wstęp teoretyczny"
   ]
  },
  {
   "cell_type": "markdown",
   "metadata": {},
   "source": [
    "Generatory liczb pseudolosowych są to programy, które przy użyciu pewnych informacji deterministycznie generują ciągi liczb. Można je interpretować jako losowe, lecz w rzeczywistości nimi nie są. Wartym zauważenia jest fakt, że generując rzeczywiste liczby pseudolosowe z przedziału $[a, b]$, gdzie $a < b$ nie jesteśmy w stanie wygenerować wszystkich wartości. Dzieje się tak, ponieważ jesteśmy ograniczeni dokładnością komputerów, czyli w najlepszym wypadku będziemy generować liczby z dokładnością tak zwanego epsilona maszynowego $\\epsilon$, gdzie $\\epsilon >0 $ to taka liczba, dla której w przedziale $(0, \\epsilon)$ nie znajdzie się żadna liczba."
   ]
  },
  {
   "cell_type": "markdown",
   "metadata": {},
   "source": [
    "# 2.Problem badawczy"
   ]
  },
  {
   "cell_type": "markdown",
   "metadata": {},
   "source": [
    "Chcemy stworzyć generator liczb pseudolosowych na przedziale $[a, b]$, gdzie $a < b$. W tym celu stworzymy funkcję generującą losowo liczby ze zbioru $\\{0,1,2...,M-1\\}$, gdzie $M$ jest liczbą naturalną. Zrobimy to używając algorytmu rekurencyjnego zadanego wzorem:\n",
    "$$ x_{k+1} = \\sum_{i=1}^{k}a_{i}x_{i}^{p_{i}}\\quad mod \\quad M, $$\n",
    "gdzie $n > k$, natomiast $\\{x_{1},...,x_{k}\\}$, $\\{a_{1},...,a_{k}\\}$, $\\{p_{1},...,p_{k}\\}$ są liczbami podawanymi przez użytkownika.\n",
    "\n",
    "Używając powyższego algorytmu stworzymy funkcję, która będzie generować $n$ liczb pseudolosowych z zakresu $\\{0, 1, 2, ... , M-1\\}$, gdzie $n$ jest liczbą ze zbioru liczb naturalnych.\n",
    "\n",
    "Ostatnim etapem będzie stworzenie generatora pseudolosowych liczb rzeczywistych z przedziału $[a,b]$ z dokładnością do epsilona maszynowego $\\epsilon$. Aby to zrobić będziemy musieli generować liczby całkowite ze zbioru $\\{1, 2, ..., M-1\\}$, gdzie tutaj $M$ będzie największą możliwą liczbą naturalną jaką może przetworzyć kompilator, a następnie każdą z otrzymanych liczb podzielimy przez $M-1$, czyli największą liczbę ze zbioru i w ten sposób otrzymamy liczby pseudolosowe z przedziału $[0,1]$. \n",
    "\n",
    "Aby rozszerzyć to na dowolny przedział liczbowy użyjemy wzoru:\n",
    "$$ u = a + \\frac{x}{M-1}\\left(b - a\\right),$$\n",
    "gdzie $x$ jest naszą pseudolosową liczbą całkowitą, natomiast $u\\sim\\mathcal{U}(a,b)$."
   ]
  },
  {
   "cell_type": "markdown",
   "metadata": {},
   "source": [
    "# 3.Generator liczb całkowitych"
   ]
  },
  {
   "cell_type": "markdown",
   "metadata": {},
   "source": [
    "Do generowania liczb całkowitych użyjemy wzoru rekurencyjnego. Pseudokod prezentuje się następująco:\n",
    "\n",
    "Wprowadź listę ziaren $x\\_vector$, listę skalarów $a\\_vector$, listę wykładników $p\\_vector$, zakres losowanych licz $m$ oraz liczbę losowanych liczb $value$,\n",
    "\n",
    "    if value == 1:\n",
    "        x_n = x_vector[0]\n",
    "        for i in range(1, len(x_vector) - 1):\n",
    "            x_n += a_vector[i]*x_vector[i]**p_vector[i]\n",
    "        return int(x_n % m)\n",
    "    result = []\n",
    "    for _ in range(value):\n",
    "        x_n = x_vector[0]\n",
    "        for i in range(1, len(x_vector) - 1):\n",
    "            x_n += a_vector[i]*x_vector[i]**p_vector[i]\n",
    "        x_n = int(x_n % m)\n",
    "        result.append(x_n)\n",
    "        for i in range(len(x_vector)-1):\n",
    "            x_vector[i] = x_vector[i+1]\n",
    "        x_vector[-1] = x_n\n",
    "    \n",
    "    return result\n",
    "\n",
    "Powyższy pseudokod generuje nam całkowite zmienne losowe od $0$ do $m$ jest to algorytm rekurencyjny zatem czas jego wykonania będzie wzrastał dosyć szybko wraz z wzrostem wartości $value$, która odpowiada za ilość generowanych liczb."
   ]
  },
  {
   "cell_type": "markdown",
   "metadata": {},
   "source": [
    "# 4.Generator liczb rzeczywistych"
   ]
  },
  {
   "cell_type": "markdown",
   "metadata": {},
   "source": [
    "Używając powyższego kodu chcemy generować liczby rzeczywiste z przedziału $[a,b]$. Wyznaczyliśmy epsilon maszynowy, który wyniósł $5^{-504}$ zatem żeby uzyskać największy możliwy zakres generatora liczb całkowitych ustaliliśmy $m=\\frac{1}{5^{-503}}$, kiedy w mianowniku używaliśmy rzeczywistej wartości $\\epsilon$ kompilator zwracał napis $inf$ więc zdecydowaliśmy się na nieznaczne zwiększenie mianownika aby otrzymać liczbę. Mając już nasze $m$ napisaliśmy generator liczb z przedziału $[a, b]$. Pseudokod jest następujący:\n",
    "\n",
    "\n",
    "Zadeklaruj $a$ minimalną wartość przedziału, $b$ maksymalną wartość przedziału, gdzie $b>a$ oraz $value$ ilość liczb, które mają się wygenerować,\n",
    "\n",
    "    out = []\n",
    "    m = 1/(5**(-303))\n",
    "    a_vector = [m*2**87, m*3**64, m*5**76]\n",
    "    p_vector = [0.05738, 1.5646, 1.23456]\n",
    "    for _ in range(value):\n",
    "        x_n = [time.clock()%400, time.clock() % 400, time.time()]\n",
    "        if value == 1:\n",
    "            return a + generation(x_n, a_vector, p_vector, m)/(m-1)*(b-a)\n",
    "        out.append(a + generation(x_n, a_vector, p_vector, m)/(m-1)*(b-a))\n",
    "    return out"
   ]
  },
  {
   "cell_type": "markdown",
   "metadata": {},
   "source": [
    "# 5.Wyniki"
   ]
  },
  {
   "cell_type": "code",
   "execution_count": 4,
   "metadata": {},
   "outputs": [
    {
     "data": {
      "image/png": "[encoded data removed]",
      "text/plain": [
       "<matplotlib.figure.Figure at 0x96d2cc0>"
      ]
     },
     "metadata": {},
     "output_type": "display_data"
    }
   ],
   "source": [
    "x = generation([7, 3, 11], [657567567, 24563456457, 54745740], [1.24325, 0.235346, 0.9576865], 10000, 100000)\n",
    "plt.figure(figsize=(7,6))\n",
    "plt.hist(x, bins=100)\n",
    "plt.show()"
   ]
  },
  {
   "cell_type": "markdown",
   "metadata": {},
   "source": [
    "W celu sprawdzenia, czy nasz generator liczb całkowitych działa poprawnie, wygenerowaliśmy próbkę $100000$ liczb naturalnych ze zbioru $\\{0, 1, 2, ... , 9999\\}$. Generując takie próbki zauważyliśmy, że niektóre z liczb pojawiają się zdecydowanie rzadziej niż inne. Kiedy zmienilismy ziarna pojawiła się ta sama tendencja jednak dla innych liczb. Jest to prawdopodobnie spowodowane tym, że generator jest rekurencyjny co znaczy, że wygenerowane liczby są w pewien sposób od siebie zależne. Dlatego w generatorze liczb rzeczywistych zdecydowaliśmy się na generowanie pojedyńczych liczb całkowitych za każdym razem zadając inne ziarno."
   ]
  },
  {
   "cell_type": "code",
   "execution_count": 7,
   "metadata": {},
   "outputs": [
    {
     "name": "stdout",
     "output_type": "stream",
     "text": [
      "Prawdopodobieństwo sukcesu: 0.93\n",
      "Średnia wartość p-value: 0.465573385805\n",
      "Średni czas wykonania algorytmu: 0.020592470044315404\n",
      "Najmniejsza wygenerowana liczba: 6.509292014764855e-07\n"
     ]
    }
   ],
   "source": [
    "succes = 0\n",
    "p = 0\n",
    "end = 0\n",
    "minimum = 10000\n",
    "for _ in range(100):\n",
    "    start = time.clock()\n",
    "    x = uniform_generator(value=10000)\n",
    "    end += time.clock() - start\n",
    "    helper = min(x)\n",
    "    if helper < minimum:\n",
    "        minimum = helper\n",
    "    p_value = scipy.stats.kstest(x, 'uniform')[1]\n",
    "    p += p_value\n",
    "    if p_value >= 0.05:\n",
    "        succes += 1\n",
    "print('Prawdopodobieństwo sukcesu:', succes/100)\n",
    "print('Średnia wartość p-value:', p/100)\n",
    "print('Średni czas wykonania algorytmu:', end/100)\n",
    "print('Najmniejsza wygenerowana liczba:', minimum)"
   ]
  },
  {
   "cell_type": "markdown",
   "metadata": {},
   "source": [
    "Powyższy skrypt zlicza nam jakie jest prawdopodobieństwo, że próbka $10000$ zmiennych losowych z naszego generatora liczb rzeczywistych przejdzie test kołmogorowa-smirnowa, jaka jest średnia wartość $p_value$, średni czas generowania próbki oraz minimalną liczbę wygenerowaną we wszystkich próbach."
   ]
  },
  {
   "cell_type": "markdown",
   "metadata": {},
   "source": [
    "Z przeprowadzonego doświadczenia wynika, że dla $\\alpha=0.05$ wygenerowana próbka przechodzi test w $95\\%$ przypadków z średnią wartością $p_value$ równą około $0.5$. Jest to równoznaczne z tym, że nasz generator liczb pseudolosowych jest wystarczająco wiarygodny i naprawdę generuje liczby z rozkładu jednostajny. Potwierdza to również histogram wygenerowanych liczb pseudolosowych oraz wykres kwantylowy."
   ]
  },
  {
   "cell_type": "code",
   "execution_count": 8,
   "metadata": {},
   "outputs": [
    {
     "data": {
      "image/png": "[encoded data removed]",
      "text/plain": [
       "<matplotlib.figure.Figure at 0x9d79588>"
      ]
     },
     "metadata": {},
     "output_type": "display_data"
    }
   ],
   "source": [
    "x = uniform_generator(value=10000)\n",
    "\n",
    "plt.figure(figsize=(14,6))\n",
    "\n",
    "plt.subplot(1,2,1)\n",
    "plt.hist(x, bins='auto')\n",
    "y = np.array(x)\n",
    "\n",
    "plt.subplot(1,2,2)\n",
    "scipy.stats.probplot(y, dist=\"uniform\", plot=plt)\n",
    "plt.show()"
   ]
  },
  {
   "cell_type": "markdown",
   "metadata": {},
   "source": [
    "Czas, w którym generujemy $10000$ liczb pseudolosowych za pomocą naszego generatora wynosi około $0.025$ dla porównania generator dostępny w bibliotece random robi to o około $10$ razy szybciej może być to spowodowane tym, że my używamy algorytmu rekurencyjnego, które są zazwyczaj stosunkowo wolne. Kilkukrotnie zbadaliśmy minimalną generowaną liczbę i biorąc wszystkie zaobserwowane większe od $0$ nie otrzymaliśmy mniejszej niż $10^{-10}$ nasówa się zatem wniosek, że pomimo dobrania jak największej mozliwej liczby całkowitej $\\frac{1}{5^{-503}}$ nie jesteśmy w stanie uzyskać dokładności $\\epsilon=5^{-503}$. Możliwe, że reprezentacja typu *double* w pythonie 3.6 uniemożliwia uzyskanie takiej dokładności, ponieważ przeprowadzając taki sam test dla liczb pseudolosowych z biblioteki *random* nie uzyskaliśmy liczby mniejszej niż $10^{-10}$."
   ]
  },
  {
   "cell_type": "markdown",
   "metadata": {},
   "source": [
    "Biorąc pod uwagę wyniki możemy z całą pewnością stwierdzić, że liczby wylosowane za pomocą naszego generatora możemy interpretować jako losowe i używać ich w następnych zadaniach bez większych zmartwień."
   ]
  }
 ],
 "metadata": {
  "kernelspec": {
   "display_name": "Python 3",
   "language": "python",
   "name": "python3"
  },
  "language_info": {
   "codemirror_mode": {
    "name": "ipython",
    "version": 3
   },
   "file_extension": ".py",
   "mimetype": "text/x-python",
   "name": "python",
   "nbconvert_exporter": "python",
   "pygments_lexer": "ipython3",
   "version": "3.6.3"
  }
 },
 "nbformat": 4,
 "nbformat_minor": 2
}

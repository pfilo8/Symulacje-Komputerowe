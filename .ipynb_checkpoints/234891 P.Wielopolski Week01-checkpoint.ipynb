{
 "cells": [
  {
   "cell_type": "markdown",
   "metadata": {},
   "source": [
    "# Week 1"
   ]
  },
  {
   "cell_type": "markdown",
   "metadata": {},
   "source": [
    "## Zadanie 1"
   ]
  },
  {
   "cell_type": "markdown",
   "metadata": {},
   "source": [
    "### A"
   ]
  },
  {
   "cell_type": "code",
   "execution_count": 1,
   "metadata": {
    "collapsed": true
   },
   "outputs": [],
   "source": [
    "import random\n",
    "\n",
    "def flip():\n",
    "    \"\"\" 0 - Orzeł, 1 - Reszka \"\"\"\n",
    "    u = random.random()\n",
    "    return int(u < 0.5)\n",
    "\n",
    "def simulation():\n",
    "    \"\"\" Simulation of one game. \"\"\"\n",
    "    rzuty = []\n",
    "    jas = [1,0,1]\n",
    "    grzes = [0,1,1]\n",
    "    while True:\n",
    "        rzuty.append(flip())\n",
    "        if rzuty[-3:] == jas:\n",
    "            return 'Jas'\n",
    "        elif rzuty[-3:] == grzes:\n",
    "            return 'Grzes'\n",
    "\n",
    "def monteCarlo(t = 10000):\n",
    "    \"\"\" Monte Carlo simulation which count Grzes's wins in simple flip game. \"\"\"\n",
    "    winGrzes = 0\n",
    "    for _ in range(t):\n",
    "        wygrany = simulation()\n",
    "        if wygrany == 'Grzes':\n",
    "            winGrzes += 1\n",
    "    return winGrzes/t"
   ]
  },
  {
   "cell_type": "code",
   "execution_count": 2,
   "metadata": {},
   "outputs": [
    {
     "data": {
      "text/plain": [
       "0.4971"
      ]
     },
     "execution_count": 2,
     "metadata": {},
     "output_type": "execute_result"
    }
   ],
   "source": [
    "monteCarlo()"
   ]
  },
  {
   "cell_type": "markdown",
   "metadata": {},
   "source": [
    "### B"
   ]
  },
  {
   "cell_type": "code",
   "execution_count": 3,
   "metadata": {
    "collapsed": true
   },
   "outputs": [],
   "source": [
    "def bitcoinSimulation():\n",
    "    \"\"\" Simulation of one game with bitcoins. \"\"\"\n",
    "    grzes = 100\n",
    "    jas = 5\n",
    "    while True:\n",
    "        if grzes <= 0:\n",
    "            return 'Jas'\n",
    "        elif jas <= 0:\n",
    "            return 'Grzes'\n",
    "        \n",
    "        wygrany = simulation()\n",
    "        \n",
    "        if wygrany == 'Grzes':\n",
    "            grzes += 1\n",
    "            jas -= 1\n",
    "        elif wygrany == 'Jas':\n",
    "            jas += 1\n",
    "            grzes -= 1\n",
    "\n",
    "def bitcoinMonteCarlo(t = 1000):\n",
    "    \"\"\" Simulation whichs counts count Grzes's wins in bitcoin game. \"\"\"\n",
    "    winGrzes = 0\n",
    "    for _ in range(t):\n",
    "        wygrany = bitcoinSimulation()\n",
    "        if wygrany == 'Grzes':\n",
    "            winGrzes += 1\n",
    "    return winGrzes/t          "
   ]
  },
  {
   "cell_type": "markdown",
   "metadata": {},
   "source": [
    "Prawdopodobieństwo, że Grześ zbankrutuje wynosi:"
   ]
  },
  {
   "cell_type": "code",
   "execution_count": 4,
   "metadata": {},
   "outputs": [
    {
     "data": {
      "text/plain": [
       "0.04500000000000004"
      ]
     },
     "execution_count": 4,
     "metadata": {},
     "output_type": "execute_result"
    }
   ],
   "source": [
    "1 - bitcoinMonteCarlo()"
   ]
  },
  {
   "cell_type": "markdown",
   "metadata": {},
   "source": [
    "## Zadanie 2"
   ]
  },
  {
   "cell_type": "code",
   "execution_count": 5,
   "metadata": {
    "collapsed": true
   },
   "outputs": [],
   "source": [
    "import matplotlib.pyplot as plt\n",
    "import numpy as np\n",
    "\n",
    "def randomTest(n = 100):\n",
    "    \"\"\" Generates list of random numbers. \"\"\"\n",
    "    return [random.random() for _ in range(n)]\n",
    "\n",
    "def cummulativeDistribution(data, x):\n",
    "    \"\"\" Counts value of empirical cummulative distribution of x. \"\"\"\n",
    "    return sum([1 for element in data if element < x])/len(data)\n",
    "\n",
    "def plotECDF(data):\n",
    "    dataToPlot = []\n",
    "    n = len(data)\n",
    "    zakres = np.linspace(1.1*min(data), 1.1*max(data), n)\n",
    "    for i in zakres:\n",
    "        temp = cummulativeDistribution(data, i)\n",
    "        dataToPlot.append(temp)\n",
    "    \n",
    "    plt.scatter(zakres[1:-1], dataToPlot[:-2], s = 10, facecolors='none', edgecolors='k')\n",
    "    # Wycinki wynikają z przesunięcia punktów oraz braku otwartego kółka na końcu.\n",
    "    for i in range(len(dataToPlot) - 1):\n",
    "        x = [zakres[i], zakres[i+1]]\n",
    "        y = [dataToPlot[i], dataToPlot[i]]\n",
    "        plt.plot(x,y, color = 'k')\n",
    "    plt.plot(zakres[-1], dataToPlot[-1])\n",
    "    plt.show()"
   ]
  },
  {
   "cell_type": "code",
   "execution_count": 6,
   "metadata": {},
   "outputs": [
    {
     "data": {
      "text/plain": [
       "0.26"
      ]
     },
     "execution_count": 6,
     "metadata": {},
     "output_type": "execute_result"
    }
   ],
   "source": [
    "data = randomTest()\n",
    "cummulativeDistribution(data, 0.3)"
   ]
  },
  {
   "cell_type": "code",
   "execution_count": 7,
   "metadata": {},
   "outputs": [
    {
     "data": {
      "image/png": "[encoded data removed]",
      "text/plain": [
       "<matplotlib.figure.Figure at 0x5b3fac8>"
      ]
     },
     "metadata": {},
     "output_type": "display_data"
    }
   ],
   "source": [
    "plt.figure(figsize = (12,12))\n",
    "plotECDF(data)"
   ]
  },
  {
   "cell_type": "code",
   "execution_count": null,
   "metadata": {
    "collapsed": true
   },
   "outputs": [],
   "source": []
  }
 ],
 "metadata": {
  "kernelspec": {
   "display_name": "Python 3",
   "language": "python",
   "name": "python3"
  },
  "language_info": {
   "codemirror_mode": {
    "name": "ipython",
    "version": 3
   },
   "file_extension": ".py",
   "mimetype": "text/x-python",
   "name": "python",
   "nbconvert_exporter": "python",
   "pygments_lexer": "ipython3",
   "version": "3.6.3"
  }
 },
 "nbformat": 4,
 "nbformat_minor": 2
}

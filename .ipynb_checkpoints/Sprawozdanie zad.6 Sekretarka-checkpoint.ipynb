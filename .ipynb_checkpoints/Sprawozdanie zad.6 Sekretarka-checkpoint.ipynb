{
 "cells": [
  {
   "cell_type": "code",
   "execution_count": 27,
   "metadata": {
    "collapsed": true
   },
   "outputs": [],
   "source": [
    "import time\n",
    "import matplotlib.pyplot as plt\n",
    "import random\n",
    "import scipy.stats\n",
    "import numpy as np\n",
    "plt.style.use('ggplot') "
   ]
  },
  {
   "cell_type": "code",
   "execution_count": 28,
   "metadata": {
    "collapsed": true
   },
   "outputs": [],
   "source": [
    "def generation(x_vector, a_vector, p_vector, m, value=1):\n",
    "    if value == 1:\n",
    "        x_n = x_vector[0]\n",
    "        for i in range(1, len(x_vector) - 1):\n",
    "            x_n += a_vector[i]*x_vector[i]**p_vector[i]\n",
    "        return int(x_n % m)\n",
    "    result = []\n",
    "    for _ in range(value):\n",
    "        x_n = x_vector[0]\n",
    "        for i in range(1, len(x_vector) - 1):\n",
    "            x_n += a_vector[i]*x_vector[i]**p_vector[i]\n",
    "        x_n = int(x_n % m)\n",
    "        result.append(x_n)\n",
    "        for i in range(len(x_vector)-1):\n",
    "            x_vector[i] = x_vector[i+1]\n",
    "        x_vector[-1] = x_n\n",
    "    \n",
    "    return result"
   ]
  },
  {
   "cell_type": "code",
   "execution_count": 29,
   "metadata": {
    "collapsed": true
   },
   "outputs": [],
   "source": [
    "def uniform_generator(a=0, b=1, value=1):\n",
    "    out = []\n",
    "    m = 1/(5**(-303))\n",
    "    a_vector = [m*2**87, m*3**64, m*5**76]\n",
    "    p_vector = [0.05738, 1.5646, 1.23456]\n",
    "    for _ in range(value):\n",
    "        x_n = [time.clock()%400, time.clock() % 400, time.time()]\n",
    "        if value == 1:\n",
    "            return a + generation(x_n, a_vector, p_vector, m)/(m-1)*(b-a)\n",
    "        out.append(a + generation(x_n, a_vector, p_vector, m)/(m-1)*(b-a))\n",
    "    return out"
   ]
  },
  {
   "cell_type": "code",
   "execution_count": 30,
   "metadata": {
    "collapsed": true
   },
   "outputs": [],
   "source": [
    "def box_muller_method(mi=0, sigma=1):\n",
    "    u1 = uniform_generator()\n",
    "    u2 = uniform_generator()\n",
    "    return mi + sigma*np.sqrt(-2*np.log(u1))*np.cos(2*np.pi*u2), mi + sigma*np.sqrt(-2*np.log(u2))*np.cos(2*np.pi*u1)"
   ]
  },
  {
   "cell_type": "code",
   "execution_count": 31,
   "metadata": {
    "collapsed": true
   },
   "outputs": [],
   "source": [
    "def analysts():\n",
    "    candidates = []\n",
    "    candidates_accepted = []\n",
    "    expectations = 1.85\n",
    "    for i in range(80):\n",
    "        candidates.append(box_muller_method()[1])\n",
    "    candidates_helper = candidates[:]\n",
    "    while len(candidates_accepted) < 3:\n",
    "        x = candidates.pop()\n",
    "        if len(candidates) <= 3:\n",
    "            candidates_accepted.append(x)\n",
    "        else:\n",
    "            if x >= expectations:\n",
    "                candidates_accepted.append(x)\n",
    "        expectations = expectations - 1/320\n",
    "    if sorted(candidates_helper)[-3] > min(candidates_accepted):\n",
    "        return 0\n",
    "    else:\n",
    "        return 1"
   ]
  },
  {
   "cell_type": "code",
   "execution_count": 32,
   "metadata": {
    "collapsed": true
   },
   "outputs": [],
   "source": [
    "def programists():\n",
    "    candidates = []\n",
    "    candidates_accepted = []\n",
    "    expectations = 1.705\n",
    "    for i in range(100):\n",
    "        candidates.append(box_muller_method()[0])\n",
    "    candidates_helper = candidates[:]\n",
    "    while len(candidates_accepted) < 3:\n",
    "        x = candidates.pop()\n",
    "        if len(candidates) <= 3:\n",
    "            candidates_accepted.append(x)\n",
    "        else:\n",
    "            if x >= expectations:\n",
    "                candidates_accepted.append(x)\n",
    "        expectations = expectations - 1/350\n",
    "    return sum(candidates_accepted)/3"
   ]
  },
  {
   "cell_type": "code",
   "execution_count": 33,
   "metadata": {
    "collapsed": true
   },
   "outputs": [],
   "source": [
    "def testers():\n",
    "    candidates = []\n",
    "    candidates_accepted = []\n",
    "    expectations = 1.955\n",
    "    for i in range(120):\n",
    "        candidates.append(box_muller_method()[0])\n",
    "    candidates_helper = candidates[:]\n",
    "    while len(candidates_accepted) < 3:\n",
    "        x = candidates.pop()\n",
    "        if len(candidates) <= 3:\n",
    "            candidates_accepted.append(x)\n",
    "        else:\n",
    "            if x >= expectations:\n",
    "                candidates_accepted.append(x)\n",
    "        expectations = expectations - 1/120\n",
    "    if sorted(candidates_helper)[-12] > min(candidates_accepted):\n",
    "        return 0\n",
    "    else:\n",
    "        return 1"
   ]
  },
  {
   "cell_type": "code",
   "execution_count": 34,
   "metadata": {
    "collapsed": true
   },
   "outputs": [],
   "source": [
    "def test(function, t = 10000):\n",
    "    wyniki = [function() for _ in range(t)]\n",
    "    print(np.mean(wyniki))\n",
    "    plt.hist(wyniki)\n",
    "    plt.show()"
   ]
  },
  {
   "cell_type": "markdown",
   "metadata": {},
   "source": [
    "# 1. Wstęp teoretyczny"
   ]
  },
  {
   "cell_type": "markdown",
   "metadata": {},
   "source": [
    "W literaturze zajmującej się zagadnieniami związanymi z problemami najlepszego wyboru możemy spotkać się z \"problemem sekretarki\". Jest to klasyczny przykład tego typu problemu. Dysponujemy skończonym zbiorem kandydatów, z których mamy wybrać jednego, który będzie się najlepiej nadawał na jakieś stanowisko. Problemem jest założenie, że z kandydatem możemy porozmawiać tylko raz, poznać jego umiejętności i przyjąć go, czyli zakończyć proces, nie dając szansy następnym kandydatom lub odrzucić i przejść do rozmowy z następnym, przy czym nie wolno przy tym zmieniać raz podjętej decyzji. Istnieje optymalne rozwiązanie kiedy musimy przyjąć jednego kandydata z $n$ dostępnych. Przyjmiemy, pewną liczbę $1\\leq k\\leq n$ taką, że pierwsze $k$ kandydatów zostanie przesłuchanych i odrzuconych. Następnie wybieramy wartość umiejętności najlepszego z odrzuconych kandydatów i wybieramy pierwszego, którego umiejętności będą większe. Załóżmy zatem, że osoba najlepsza jest na $i$-tym miejscu zbioru. Rozwazmy zatem dwie sytuacje jeśli $i<k$ to nie wybierzemy najlepszego kandydata, gdyż będzie w grupie odrzuconej, jeśli $i>k$. Wiemy zatem, że aby nasza strategia była skuteczna to druga co do umiejętności osoba musi znajdować się w przedziale $[1,k]$, a prawdopodobieństwo takiego zdarzenia wynosi $\\frac{k}{i}$. Mamy zatem, że prawdopodobieństwo sukcesu wynosi $\\frac{k}{i}$ pod warunkiem $i>k$. Dla dużych wartości $n$ otrzymujemy zatem wzór:\n",
    "$$P(sukcesu) = \\frac{1}{n}\\sum_{i=k}^{n}\\frac{k}{i}=\\frac{1}{n}\\int_{k}^{n}\\frac{k}{i}di=-\\frac{k}{n}\\log\\left(\\frac{k}{n}\\right)$$\n",
    "Przyrównując pochodną po $\\frac{k}{n}$ do $0$ wyznaczamy zmaksymalizowane prawdopodobieństwo sukcesu naszej strategii. Dzieje się to dla $\\frac{k}{n} = \\frac{1}{e}$."
   ]
  },
  {
   "cell_type": "markdown",
   "metadata": {},
   "source": [
    "Całość jednak komplikuje się gdy założymy, że chcemy wybrać więcej niż jednego kandydata, a taki właśnie przypadek bedziemy rozpatrywać poniżej."
   ]
  },
  {
   "cell_type": "markdown",
   "metadata": {},
   "source": [
    "# 2. Problem badawczy"
   ]
  },
  {
   "cell_type": "markdown",
   "metadata": {},
   "source": [
    "Spróbujemy wyznaczyć strategię wybierania trzech kandydatów na stanowiska analityków tak, aby byli najlepsi z całej puli, programistów tak, aby średnia ich umiejętności była jak największa oraz testerów tak, aby mieścili się oni w grupie 10% najlepszych kandydatów z grup liczących odpowiednio 80, 100, 120 osób. Główny problem polegał na tym, że powyżej wyprowadzona optymalna liczba badanych osób nie daje zbyt dużego prawdopodobieństwa wybrania 3 najlepszych kandydatów, które wynosiło około 12% gdzie dla wyboru jednego kandydata było to około 37%. Mamy zatem trzykrotny spadek. Próbowaliśmy stosować różne strategie poprzez wyprowadzenie nowej stałej , dla której zmaksymalizujemy prawdopodobieństwo sukcesu aż do doświadczalnego modyfikowania jej. "
   ]
  },
  {
   "cell_type": "markdown",
   "metadata": {},
   "source": [
    "# 3. Rozwiązanie"
   ]
  },
  {
   "cell_type": "markdown",
   "metadata": {},
   "source": [
    "Zauważyliśmy, że nasze $n$ w każdym z przypadków jest stałe oraz dysponujemy sporą ilością informacji o poziomie umiejętności kandydatów mianowicie są to zmienne losowe z standardowego rozkładu normalnego. Taka ilość informacji była wystarczająca aby dla każdego z przypadków wyznaczyć stałą, od której będziemy bezwzględnie przyjmować kandydata. Zdecydowaliśmy się również na zmniejszanie naszych oczekiwań o niewielkie wartości wraz z spadkiem liczby dostępnych kandydatów. Umiejętności kandydatów będziemy generować przy użyciu algorytmu Boxa-Mullera używając do tego napisanego przez nas generatora liczb pseudolosowych."
   ]
  },
  {
   "cell_type": "markdown",
   "metadata": {},
   "source": [
    "Pierwszym rozwiązywanym przez nas zagadnieniem będzie wybranie $3$ najlepszych spośród $80$-sięcio osobowej grupy kandydatów. Pseudokod wygląda następująco:\n",
    "    \n",
    "    Stwórz dwie puste listy candidates do której będziemy dodawać zmienne losowe z standardowego rozkładu normalnego i \n",
    "    candidates_accepted, w której będziemy przechowywać przyjętych kandydatów, dodatkowo utwórz stałą expectations = 1.85, \n",
    "    która jest progiem, od którego przyjmujemy kandydatów.\n",
    "\n",
    "    for i in range(80):\n",
    "        candidates.append(box_muller_method()[1])\n",
    "    candidates_helper = candidates[:]\n",
    "    while len(candidates_accepted) < 3:\n",
    "        x = candidates.pop()\n",
    "        if len(candidates) <= 3:\n",
    "            candidates_accepted.append(x)\n",
    "        else:\n",
    "            if x >= expectations:\n",
    "                candidates_accepted.append(x)\n",
    "        expectations = expectations - 1/320\n",
    "    if sorted(candidates_helper)[-3] > min(candidates_accepted):\n",
    "        return 0\n",
    "    else:\n",
    "        return 1"
   ]
  },
  {
   "cell_type": "markdown",
   "metadata": {},
   "source": [
    "Następnym przypadkiem jest wybranie $3$ programistów spośród 100 osób tak aby średnia wartość ich umiejętności była jak największa. Pseudokod jest następujący:\n",
    "\n",
    "    Stwórz dwie puste listy candidates do której będziemy dodawać zmienne losowe z standardowego rozkładu normalnego i \n",
    "    candidates_accepted, w której będziemy przechowywać przyjętych kandydatów, dodatkowo utwórz stałą expectations = 1.705, \n",
    "    która jest progiem, od którego przyjmujemy kandydatów.\n",
    "    \n",
    "    for i in range(100):\n",
    "        candidates.append(box_muller_method()[0])\n",
    "    candidates_helper = candidates[:]\n",
    "    while len(candidates_accepted) < 3:\n",
    "        x = candidates.pop()\n",
    "        if len(candidates) <= 3:\n",
    "            candidates_accepted.append(x)\n",
    "        else:\n",
    "            if x >= expectations:\n",
    "                candidates_accepted.append(x)\n",
    "        expectations = expectations - 1/350\n",
    "    return sum(candidates_accepted)/3"
   ]
  },
  {
   "cell_type": "markdown",
   "metadata": {},
   "source": [
    "Ostatnim zadaniem jest wybranie $3$ testerówspośród $120$ osób tak aby wszyscy znaleźli się wśród $10\\%$ najlepszych ze wszystkich kandydatów. Pseudokod prezentuje się następująco:\n",
    "\n",
    "    Stwórz dwie puste listy candidates do której będziemy dodawać zmienne losowe z standardowego rozkładu normalnego i \n",
    "    candidates_accepted, w której będziemy przechowywać przyjętych kandydatów, dodatkowo utwórz stałą expectations = 1.955, \n",
    "    która jest progiem, od którego przyjmujemy kandydatów.\n",
    "    \n",
    "    for i in range(120):\n",
    "        candidates.append(box_muller_method()[0])\n",
    "    candidates_helper = candidates[:]\n",
    "    while len(candidates_accepted) < 3:\n",
    "        x = candidates.pop()\n",
    "        if len(candidates) <= 3:\n",
    "            candidates_accepted.append(x)\n",
    "        else:\n",
    "            if x >= expectations:\n",
    "                candidates_accepted.append(x)\n",
    "        expectations = expectations - 1/120\n",
    "    if sorted(candidates_helper)[-12] > min(candidates_accepted):\n",
    "        return 0\n",
    "    else:\n",
    "        return 1"
   ]
  },
  {
   "cell_type": "markdown",
   "metadata": {},
   "source": [
    "# 4. Rozkład normalny"
   ]
  },
  {
   "cell_type": "markdown",
   "metadata": {},
   "source": [
    "Rozkład normalny generowany przy użyciu naszego generatora liczb pseudolosowych z rozkładu jednostajnego na odcinku $[0, 1]$ przechodzi test kołmogorow-Smirnowa praktycznie za każdym razem przy założeniu, że test zostaje uznany dla $p\\_value>0.05$ dodatkowo rysujemy i badamy histogram, który pokrywa się z teoretyczną gęstością standardowego rozkładu normalnego. Poniżej zamieszczamy skrypt, wyniki oraz wykres."
   ]
  },
  {
   "cell_type": "code",
   "execution_count": 25,
   "metadata": {},
   "outputs": [
    {
     "name": "stdout",
     "output_type": "stream",
     "text": [
      "0.93\n",
      "0.511864391896\n"
     ]
    },
    {
     "data": {
      "image/png": "[encoded data removed]",
      "text/plain": [
       "<matplotlib.figure.Figure at 0xaf8edd8>"
      ]
     },
     "metadata": {},
     "output_type": "display_data"
    }
   ],
   "source": [
    "p = 0\n",
    "succes = 0\n",
    "for _ in range(100):\n",
    "    helper = []\n",
    "    for i in range(5000):\n",
    "        x = box_muller_method()\n",
    "        helper.append(x[0])\n",
    "        helper.append(x[1])     \n",
    "    p_value = scipy.stats.kstest(helper, 'norm')[1]\n",
    "    p += p_value\n",
    "    if p_value >= 0.05:\n",
    "        succes += 1\n",
    "print(succes/100)\n",
    "print(p/100)\n",
    "plt.figure(figsize=(7,6))\n",
    "x = np. arange(-5, 5, 0.01)\n",
    "plt.plot(x, 1/np.sqrt(2*np.pi)*np.exp(-(x**2)/2), color='b')\n",
    "plt.hist(helper, normed=True)\n",
    "plt.show()"
   ]
  },
  {
   "cell_type": "markdown",
   "metadata": {},
   "source": [
    "# 5. Wyniki"
   ]
  },
  {
   "cell_type": "markdown",
   "metadata": {},
   "source": [
    "W pierwszej kolejności zajęliśmy się wyznaczeniem prawdopodobieństwa wybrania trzech najlepszych kandydatów z puli $80$ analityków. Tak jak widać w wcześniej napisanym pseudokodzie funkcja, która symuluje taki wybór zwraca wartość $1$ gdy udało się spełnić warunek i $0$ gdy najgorszy z przyjętych analityków jest gorszy od trzeciego najlepszego dostępnego w puli. Napisaliśmy zatem skrypt, w którym wykonujemy naszą funkcję $10000$ razy i zliczamy zwracane wartości. Dzieląc otrzymany wynik przez ilość powtórzeń symulacji otrzymujemy prawdopodobieństwo wybrania najlepszych analityków przy użyciu naszej strategii, które wynosi $28\\%\\pm 0.5\\%$. Poniżej zamieszczamy opisany wcześniej skrypt."
   ]
  },
  {
   "cell_type": "code",
   "execution_count": 35,
   "metadata": {},
   "outputs": [
    {
     "name": "stdout",
     "output_type": "stream",
     "text": [
      "0.2764\n",
      "0.44721699431\n"
     ]
    },
    {
     "data": {
      "image/png": "[encoded data removed]",
      "text/plain": [
       "<matplotlib.figure.Figure at 0xaf8fc88>"
      ]
     },
     "metadata": {},
     "output_type": "display_data"
    }
   ],
   "source": [
    "test(analysts)"
   ]
  },
  {
   "cell_type": "markdown",
   "metadata": {},
   "source": [
    "Następna funkcja zwraca średnią wartość umiejętności wybranych trzech programistów z puli stu kandydatów. Tak jak wcześniej, napisaliśmy skrypt, który zlicza wartości zwracanych przez naszą funkcjęi dzieli tę sumę przez ilość prób. Dzięki temu otrzymujemy wyniki, które nie są bardzo rozbieżne. Średnia wartość umiejętności wybranych programistów wynosi $1.96\\pm0.01$."
   ]
  },
  {
   "cell_type": "code",
   "execution_count": 36,
   "metadata": {},
   "outputs": [
    {
     "name": "stdout",
     "output_type": "stream",
     "text": [
      "1.96466962757\n",
      "0.346671934603\n"
     ]
    },
    {
     "data": {
      "image/png": "[encoded data removed]",
      "text/plain": [
       "<matplotlib.figure.Figure at 0x9a9fb38>"
      ]
     },
     "metadata": {},
     "output_type": "display_data"
    }
   ],
   "source": [
    "test(programists)"
   ]
  },
  {
   "cell_type": "markdown",
   "metadata": {},
   "source": [
    "Ostatnia napisana przez nas funkcja jest bardzo podobna do pierwszej, różni się tylko ilością kandydatów w puli, stałą od, której przyjmujemy kandydatów oraz warunkiem zwracania zera lub jedynki, tutaj $1$ zwracamy gdy nasi trzej wybrani testerzy znajdują się w $10\\%$ najlepszych w innych przypadkach funkcja zwraca $0$. Skrypt jest identyczny jak w pierwszym przypadku i zwraca wynik około $98\\%$."
   ]
  },
  {
   "cell_type": "code",
   "execution_count": 37,
   "metadata": {},
   "outputs": [
    {
     "name": "stdout",
     "output_type": "stream",
     "text": [
      "0.9834\n",
      "0.127767131924\n"
     ]
    },
    {
     "data": {
      "image/png": "[encoded data removed]",
      "text/plain": [
       "<matplotlib.figure.Figure at 0xb147f60>"
      ]
     },
     "metadata": {},
     "output_type": "display_data"
    }
   ],
   "source": [
    "test(testers)"
   ]
  },
  {
   "cell_type": "markdown",
   "metadata": {},
   "source": [
    "Warto zaznaczyć, że stałe od, których przyjmujemy kandydatów są dobrane do tych konkretnych przypadków. Jeżeli zmienimy rozkład, z którego losujemy umiejętności , liczbę dostępnych kandydatów lub ilość potrzebnych osób na dane stanowisko, to otrzymalibyśmy zupełnie inne wyniki. Niestety nie udało Nam się znaleźć optymalnej, ogólnej strategii, która dałaby bardziej satysfakcjonujące wyniki."
   ]
  }
 ],
 "metadata": {
  "kernelspec": {
   "display_name": "Python 3",
   "language": "python",
   "name": "python3"
  },
  "language_info": {
   "codemirror_mode": {
    "name": "ipython",
    "version": 3
   },
   "file_extension": ".py",
   "mimetype": "text/x-python",
   "name": "python",
   "nbconvert_exporter": "python",
   "pygments_lexer": "ipython3",
   "version": "3.6.3"
  }
 },
 "nbformat": 4,
 "nbformat_minor": 2
}

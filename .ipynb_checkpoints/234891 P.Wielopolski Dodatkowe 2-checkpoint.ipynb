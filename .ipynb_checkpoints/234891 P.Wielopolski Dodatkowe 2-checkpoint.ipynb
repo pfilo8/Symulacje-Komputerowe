{
 "cells": [
  {
   "cell_type": "markdown",
   "metadata": {},
   "source": [
    "# Subordynacja"
   ]
  },
  {
   "cell_type": "code",
   "execution_count": 16,
   "metadata": {
    "collapsed": true
   },
   "outputs": [],
   "source": [
    "import numpy as np\n",
    "import matplotlib.pyplot as plt"
   ]
  },
  {
   "cell_type": "code",
   "execution_count": 17,
   "metadata": {
    "collapsed": true
   },
   "outputs": [],
   "source": [
    "def ruchBrowna(n):\n",
    "    return np.cumsum(np.random.randn(n))"
   ]
  },
  {
   "cell_type": "code",
   "execution_count": 25,
   "metadata": {
    "collapsed": true
   },
   "outputs": [],
   "source": [
    "def generujProcesX(n = 10000):\n",
    "    ruch = ruchBrowna(n)\n",
    "    ruchZ = ruchBrowna(n)\n",
    "    \n",
    "    data = []\n",
    "\n",
    "    for t in range(100):\n",
    "        try:\n",
    "            idx = (ruch >= t).tolist().index(True)\n",
    "            data.append(idx)\n",
    "        except:\n",
    "            break\n",
    "            \n",
    "    return ruchZ[data]"
   ]
  },
  {
   "cell_type": "code",
   "execution_count": 29,
   "metadata": {},
   "outputs": [
    {
     "data": {
      "image/png": "[encoded data removed]",
      "text/plain": [
       "<matplotlib.figure.Figure at 0x78d0160>"
      ]
     },
     "metadata": {},
     "output_type": "display_data"
    }
   ],
   "source": [
    "for _ in range(4):\n",
    "    temp = generujProcesX()\n",
    "    plt.plot(temp)\n",
    "plt.show()"
   ]
  },
  {
   "cell_type": "markdown",
   "metadata": {},
   "source": [
    "# Iloczyn zmiennych jednostajnych"
   ]
  },
  {
   "cell_type": "code",
   "execution_count": 30,
   "metadata": {
    "collapsed": true
   },
   "outputs": [],
   "source": [
    "import random"
   ]
  },
  {
   "cell_type": "code",
   "execution_count": 52,
   "metadata": {
    "collapsed": true
   },
   "outputs": [],
   "source": [
    "def generujM():\n",
    "    i = 1\n",
    "    number = random.random()\n",
    "    while number >= np.exp(-3):\n",
    "        i += 1\n",
    "        number *= random.random()\n",
    "    return i"
   ]
  },
  {
   "cell_type": "code",
   "execution_count": 74,
   "metadata": {},
   "outputs": [
    {
     "name": "stdout",
     "output_type": "stream",
     "text": [
      "EM =  4.032\n",
      "\n",
      "P(M = 1) =  0.057\n",
      "P(M = 2) =  0.135\n",
      "P(M = 3) =  0.218\n",
      "P(M = 4) =  0.209\n",
      "P(M = 5) =  0.19\n",
      "P(M = 6) =  0.11\n",
      "P(M = 7) =  0.054\n"
     ]
    }
   ],
   "source": [
    "data = np.array([generujM() for _ in range(1000)])\n",
    "\n",
    "print('EM = ', np.mean(data))\n",
    "print()\n",
    "\n",
    "for i in range(1,8):\n",
    "    print('P(M = {}) = '.format(i), np.mean(data == i))"
   ]
  },
  {
   "cell_type": "markdown",
   "metadata": {},
   "source": [
    "# Suma zmiennych jednostajnych"
   ]
  },
  {
   "cell_type": "code",
   "execution_count": 75,
   "metadata": {
    "collapsed": true
   },
   "outputs": [],
   "source": [
    "def generujN():\n",
    "    i = 1\n",
    "    number = random.random()\n",
    "    while number <= 1:\n",
    "        i += 1\n",
    "        number += random.random()\n",
    "    return i"
   ]
  },
  {
   "cell_type": "code",
   "execution_count": 76,
   "metadata": {},
   "outputs": [
    {
     "name": "stdout",
     "output_type": "stream",
     "text": [
      "EN =  2.687\n",
      "\n",
      "EN =  2.7199\n",
      "\n",
      "EN =  2.72243\n",
      "\n"
     ]
    }
   ],
   "source": [
    "for n_iters in [10**3, 10**4, 10**5]:\n",
    "    data = np.array([generujN() for _ in range(n_iters)])\n",
    "\n",
    "    print('EN = ', np.mean(data))\n",
    "    print()"
   ]
  },
  {
   "cell_type": "markdown",
   "metadata": {},
   "source": [
    "Hipoteza: $EN$ zbiega do $e$."
   ]
  },
  {
   "cell_type": "markdown",
   "metadata": {},
   "source": [
    "# Korelacje"
   ]
  },
  {
   "cell_type": "code",
   "execution_count": 124,
   "metadata": {
    "collapsed": true
   },
   "outputs": [],
   "source": [
    "import sys"
   ]
  },
  {
   "cell_type": "code",
   "execution_count": 140,
   "metadata": {
    "collapsed": true
   },
   "outputs": [],
   "source": [
    "def korelacje(n = 1000, typ = '0'):\n",
    "    X = np.random.rand(n)\n",
    "    if typ == '1':\n",
    "        X = X**2\n",
    "\n",
    "    U = np.random.rand(n)\n",
    "    Z = np.sqrt(1 - U**2)\n",
    "    \n",
    "    return np.mean((X - np.mean(X))*(Z - np.mean(Z)))/(np.std(X)*np.std(Z))"
   ]
  },
  {
   "cell_type": "code",
   "execution_count": 151,
   "metadata": {},
   "outputs": [
    {
     "data": {
      "text/plain": [
       "0.010534223440359947"
      ]
     },
     "execution_count": 151,
     "metadata": {},
     "output_type": "execute_result"
    }
   ],
   "source": [
    "korelacje(typ = '0')"
   ]
  },
  {
   "cell_type": "code",
   "execution_count": 156,
   "metadata": {},
   "outputs": [
    {
     "data": {
      "text/plain": [
       "0.012833405070920342"
      ]
     },
     "execution_count": 156,
     "metadata": {},
     "output_type": "execute_result"
    }
   ],
   "source": [
    "korelacje(typ = '1')"
   ]
  },
  {
   "cell_type": "markdown",
   "metadata": {},
   "source": [
    "# Warunkowa wartość oczekiwana"
   ]
  },
  {
   "cell_type": "code",
   "execution_count": 193,
   "metadata": {},
   "outputs": [
    {
     "data": {
      "text/plain": [
       "0.051768711494356578"
      ]
     },
     "execution_count": 193,
     "metadata": {},
     "output_type": "execute_result"
    }
   ],
   "source": [
    "data = np.random.exponential(1, size = 1000)\n",
    "np.mean(data[data <= 0.1])"
   ]
  }
 ],
 "metadata": {
  "kernelspec": {
   "display_name": "Python 3",
   "language": "python",
   "name": "python3"
  },
  "language_info": {
   "codemirror_mode": {
    "name": "ipython",
    "version": 3
   },
   "file_extension": ".py",
   "mimetype": "text/x-python",
   "name": "python",
   "nbconvert_exporter": "python",
   "pygments_lexer": "ipython3",
   "version": "3.6.3"
  }
 },
 "nbformat": 4,
 "nbformat_minor": 2
}

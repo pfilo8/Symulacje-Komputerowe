{
 "cells": [
  {
   "cell_type": "markdown",
   "metadata": {},
   "source": [
    "# Week 1"
   ]
  },
  {
   "cell_type": "markdown",
   "metadata": {},
   "source": [
    "## Zadanie 1"
   ]
  },
  {
   "cell_type": "code",
   "execution_count": 87,
   "metadata": {
    "collapsed": true
   },
   "outputs": [],
   "source": [
    "import random\n",
    "import collections\n",
    "import numpy as np\n",
    "import time\n",
    "\n",
    "def flip():\n",
    "    \"\"\" 0 - Orzeł, 1 - Reszka \"\"\"\n",
    "    u = random.random()\n",
    "    return int(u < 0.5)\n",
    "\n",
    "def simulation(uklady):\n",
    "    \"\"\" \n",
    "    Simulation of one game.\n",
    "    \"\"\"\n",
    "    n = len(uklady[0])\n",
    "    rzuty = collections.deque([],n)\n",
    "    wygrywajaceUklady =[collections.deque(uklad,3) for uklad in uklady]\n",
    "\n",
    "    while True:\n",
    "        rzuty.append(flip())\n",
    "        for index, uklad in enumerate(wygrywajaceUklady):\n",
    "            if rzuty == uklad:\n",
    "                return index\n",
    "\n",
    "def bitcoinSimulation(uklady, startingMoney):\n",
    "    \"\"\" \n",
    "    Simulation of one game with bitcoins. \n",
    "    \"\"\"\n",
    "    players = np.array(startingMoney)\n",
    "    bankrupt = np.array([False]*len(players))\n",
    "    start = time.time()\n",
    "    now = time.time()\n",
    "    \n",
    "    while now-start <= 1: # Warunek zabezpieczajacy przed zbyt dluga symulacja\n",
    "        # Warunek końca gry\n",
    "        if np.sum(bankrupt) == (len(players) - 1):\n",
    "            for i in range(len(bankrupt)):\n",
    "                if bankrupt[i] == False:\n",
    "                    return i\n",
    "        \n",
    "        wygrany = simulation(uklady)\n",
    "        grajacyGracze = (bankrupt == False)\n",
    "        iloscGrajacych = np.sum(grajacyGracze)\n",
    "        \n",
    "        for i in range(len(players)):\n",
    "            if grajacyGracze[i] and not (i == wygrany):\n",
    "                players[i] -= 1\n",
    "            elif grajacyGracze[i] and i == wygrany:\n",
    "                players[i] += (iloscGrajacych - 1)\n",
    "                \n",
    "        # Warunek bankructwa\n",
    "        for i in range(len(players)):\n",
    "            if players[i] <= 0:\n",
    "                bankrupt[i] = True\n",
    "        \n",
    "        now = time.time()\n",
    "    return None\n",
    "\n",
    "def bitcoinMonteCarlo(uklady, startingMoney, person = None, t = 100):\n",
    "    \"\"\" Simulation which counts won of person in bitcoin game. \"\"\"\n",
    "    if len(uklady) != len(startingMoney):\n",
    "        raise ValueError('Length of uklady is different than startingMoney.')\n",
    "    \n",
    "    numberOfWin = [0] * len(uklady)\n",
    "    numberOfSimulations = 0\n",
    "    for _ in range(t):\n",
    "        wygrany = bitcoinSimulation(uklady, startingMoney)\n",
    "        if wygrany is not None:\n",
    "            numberOfWin[wygrany] += 1\n",
    "            numberOfSimulations += 1\n",
    "\n",
    "    results = [won/numberOfSimulations for won in numberOfWin]\n",
    "    if person:\n",
    "        return results[person]\n",
    "    else:\n",
    "        return results"
   ]
  },
  {
   "cell_type": "markdown",
   "metadata": {},
   "source": [
    "### D"
   ]
  },
  {
   "cell_type": "code",
   "execution_count": 4,
   "metadata": {
    "collapsed": true
   },
   "outputs": [],
   "source": [
    "uklady = [[0,0,1],[1,0,1],[1,1,1]]"
   ]
  },
  {
   "cell_type": "markdown",
   "metadata": {},
   "source": [
    "Prawdopodobieństwo wygrania przez Jasia, Grzesia oraz Tosię:"
   ]
  },
  {
   "cell_type": "code",
   "execution_count": 5,
   "metadata": {},
   "outputs": [
    {
     "name": "stdout",
     "output_type": "stream",
     "text": [
      "[0.91, 0.09, 0.0]\n"
     ]
    }
   ],
   "source": [
    "results = bitcoinMonteCarlo(uklady, startingMoney = [5,100,50])\n",
    "print(results)"
   ]
  },
  {
   "cell_type": "markdown",
   "metadata": {},
   "source": [
    "Ponieważ gramy do rozbicia banku prawdopodobieństwo bankructwa możemy obliczyć z prawdopodobieństwa zdarzenia przeciwnego:"
   ]
  },
  {
   "cell_type": "markdown",
   "metadata": {},
   "source": [
    "Prawdopodobieństwo bankructwa Jasia, Grzesia oraz Tosi:"
   ]
  },
  {
   "cell_type": "code",
   "execution_count": 6,
   "metadata": {},
   "outputs": [
    {
     "name": "stdout",
     "output_type": "stream",
     "text": [
      "[0.08999999999999997, 0.91, 1.0]\n"
     ]
    }
   ],
   "source": [
    "print([1 - result for result in results])"
   ]
  },
  {
   "cell_type": "markdown",
   "metadata": {},
   "source": [
    "Teraz próbujemy przez metodę prób i błędów dopasować początkową ilość bitcoinów, tak, aby każdy miał równą szansą wygranej"
   ]
  },
  {
   "cell_type": "code",
   "execution_count": 86,
   "metadata": {},
   "outputs": [
    {
     "name": "stdout",
     "output_type": "stream",
     "text": [
      "[1, 1, 1]\n",
      "[0.57, 0.26, 0.17]\n",
      "[1, 1, 2]\n",
      "[0.495, 0.3, 0.185]\n",
      "[1, 1, 3]\n",
      "[0.48, 0.195, 0.325]\n",
      "[1, 1, 4]\n",
      "[0.5, 0.145, 0.27]\n",
      "[1, 1, 5]\n",
      "[0.4, 0.15, 0.45]\n",
      "[1, 1, 6]\n",
      "[0.43, 0.095, 0.435]\n",
      "[1, 1, 7]\n",
      "[0.405, 0.075, 0.52]\n",
      "[1, 1, 8]\n",
      "[0.405, 0.035, 0.53]\n",
      "[1, 1, 9]\n",
      "[0.37, 0.03, 0.6]\n",
      "[1, 2, 1]\n",
      "[0.56, 0.265, 0.145]\n",
      "[1, 2, 2]\n",
      "[0.465, 0.35, 0.185]\n",
      "[1, 2, 3]\n",
      "[0.465, 0.29, 0.235]\n",
      "[1, 2, 4]\n",
      "[0.395, 0.25, 0.355]\n",
      "[1, 2, 5]\n",
      "[0.42, 0.125, 0.415]\n",
      "[1, 2, 6]\n",
      "[0.37, 0.2, 0.43]\n",
      "[1, 2, 7]\n",
      "[0.405, 0.205, 0.345]\n",
      "[1, 2, 8]\n",
      "[0.425, 0.09, 0.485]\n",
      "[1, 2, 9]\n",
      "[0.485, 0.065, 0.425]\n",
      "[1, 3, 1]\n",
      "[0.435, 0.47, 0.095]\n",
      "[1, 3, 2]\n",
      "[0.445, 0.35, 0.16]\n",
      "[1, 3, 3]\n",
      "[0.42, 0.415, 0.165]\n",
      "[1, 3, 4]\n",
      "[0.425, 0.335, 0.22]\n",
      "[1, 3, 5]\n",
      "[0.435, 0.285, 0.28]\n",
      "[1, 3, 6]\n",
      "[0.455, 0.23, 0.28]\n",
      "[1, 3, 7]\n",
      "[0.375, 0.21, 0.415]\n",
      "[1, 3, 8]\n",
      "[0.42, 0.185, 0.36]\n",
      "[1, 3, 9]\n",
      "[0.415, 0.115, 0.47]\n",
      "[1, 4, 1]\n",
      "[0.365, 0.525, 0.04]\n",
      "[1, 4, 2]\n",
      "[0.435, 0.45, 0.115]\n",
      "[1, 4, 3]\n",
      "[0.495, 0.355, 0.12]\n",
      "[1, 4, 4]\n",
      "[0.365, 0.4, 0.235]\n",
      "[1, 4, 5]\n",
      "[0.435, 0.305, 0.235]\n",
      "[1, 4, 6]\n",
      "[0.445, 0.3, 0.255]\n",
      "[1, 4, 7]\n",
      "[0.38, 0.34, 0.255]\n",
      "[1, 4, 8]\n",
      "[0.385, 0.275, 0.34]\n",
      "[1, 4, 9]\n",
      "[0.405, 0.19, 0.355]\n",
      "[1, 5, 1]\n",
      "[0.335, 0.625, 0.04]\n",
      "[1, 5, 2]\n",
      "[0.38, 0.51, 0.05]\n",
      "[1, 5, 3]\n",
      "[0.42, 0.465, 0.115]\n",
      "[1, 5, 4]\n",
      "[0.44, 0.4, 0.12]\n",
      "[1, 5, 5]\n",
      "[0.38, 0.435, 0.185]\n",
      "[1, 5, 6]\n",
      "[0.4, 0.34, 0.235]\n",
      "[1, 5, 7]\n",
      "[0.42, 0.345, 0.235]\n",
      "[1, 5, 8]\n",
      "[0.355, 0.28, 0.33]\n",
      "[1, 5, 9]\n",
      "[0.47, 0.2, 0.33]\n",
      "[1, 6, 1]\n",
      "[0.31, 0.645, 0.035]\n",
      "[1, 6, 2]\n",
      "[0.38, 0.58, 0.04]\n",
      "[1, 6, 3]\n",
      "[0.335, 0.53, 0.095]\n",
      "[1, 6, 4]\n",
      "[0.35, 0.545, 0.105]\n",
      "[1, 6, 5]\n",
      "[0.4, 0.415, 0.15]\n",
      "[1, 6, 6]\n",
      "[0.41, 0.4, 0.19]\n",
      "[1, 6, 7]\n",
      "[0.385, 0.365, 0.21]\n",
      "[1, 6, 8]\n",
      "[0.44, 0.34, 0.22]\n",
      "[1, 6, 9]\n",
      "[0.455, 0.27, 0.23]\n",
      "[1, 7, 1]\n",
      "[0.355, 0.635, 0.01]\n",
      "[1, 7, 2]\n",
      "[0.365, 0.585, 0.035]\n",
      "[1, 7, 3]\n",
      "[0.425, 0.525, 0.05]\n",
      "[1, 7, 4]\n",
      "[0.415, 0.485, 0.07]\n",
      "[1, 7, 5]\n",
      "[0.37, 0.455, 0.175]\n",
      "[1, 7, 6]\n",
      "[0.365, 0.44, 0.175]\n",
      "[1, 7, 7]\n",
      "[0.44, 0.38, 0.18]\n",
      "[1, 7, 8]\n",
      "[0.36, 0.395, 0.2]\n",
      "[1, 7, 9]\n",
      "[0.37, 0.375, 0.255]\n",
      "[1, 8, 1]\n",
      "[0.355, 0.625, 0.005]\n",
      "[1, 8, 2]\n",
      "[0.32, 0.665, 0.015]\n",
      "[1, 8, 3]\n",
      "[0.335, 0.58, 0.045]\n",
      "[1, 8, 4]\n",
      "[0.45, 0.5, 0.05]\n",
      "[1, 8, 5]\n",
      "[0.405, 0.455, 0.085]\n",
      "[1, 8, 6]\n",
      "[0.46, 0.44, 0.1]\n",
      "[1, 8, 7]\n",
      "[0.415, 0.43, 0.125]\n",
      "[1, 8, 8]\n",
      "[0.295, 0.475, 0.23]\n",
      "[1, 8, 9]\n",
      "[0.43, 0.37, 0.18]\n",
      "[1, 9, 1]\n",
      "[0.31, 0.685, 0.005]\n",
      "[1, 9, 2]\n",
      "[0.38, 0.615, 0.0]\n",
      "[1, 9, 3]\n",
      "[0.375, 0.6, 0.025]\n",
      "[1, 9, 4]\n",
      "[0.33, 0.595, 0.025]\n",
      "[1, 9, 5]\n",
      "[0.36, 0.59, 0.05]\n",
      "[1, 9, 6]\n",
      "[0.405, 0.515, 0.065]\n",
      "[1, 9, 7]\n",
      "[0.4, 0.515, 0.085]\n",
      "[1, 9, 8]\n",
      "[0.45, 0.405, 0.095]\n",
      "[1, 9, 9]\n",
      "[0.4, 0.405, 0.195]\n"
     ]
    }
   ],
   "source": [
    "indexes = [(i,j) for i in range(1,10) for j in range(1,10)]\n",
    "for i,j in indexes:\n",
    "    startingMoney = [1,i,j]\n",
    "    print(startingMoney)\n",
    "    print(bitcoinMonteCarlo(uklady, startingMoney = startingMoney, t = 200))"
   ]
  },
  {
   "cell_type": "markdown",
   "metadata": {},
   "source": [
    "Analizując powyższe wyniki nie jesteśmy w stanie jednoznacznie stwierdzić czy stan równoprawdopodobieństwa wygranych istnieje. Dla podanej symulacji możemy znaleźć wyniki, które są dosyć bliskie takiego stanu, np. [1,5,8] -> [0.355, 0.28, 0.33] , natomiast niemożliwe jest jednoznacze stwierdzenie istnienia takich warunków początkowych $startingMoney$, aby prawdopodobieństwa wyniosły [0.33, 0.33, 0.33]. Należy również pamiętać, że jest to jedynie symulacja dla ustalonego $t$, a nie dla $t\\to\\infty$ i po ponownym wykonaniu symulacji prawdopodobieństwa np. dla warunków początkowych [1,5,8] mogą znacznie odbiegać od tych uzyskanych powyżej."
   ]
  }
 ],
 "metadata": {
  "kernelspec": {
   "display_name": "Python 3",
   "language": "python",
   "name": "python3"
  },
  "language_info": {
   "codemirror_mode": {
    "name": "ipython",
    "version": 3
   },
   "file_extension": ".py",
   "mimetype": "text/x-python",
   "name": "python",
   "nbconvert_exporter": "python",
   "pygments_lexer": "ipython3",
   "version": "3.6.3"
  }
 },
 "nbformat": 4,
 "nbformat_minor": 2
}

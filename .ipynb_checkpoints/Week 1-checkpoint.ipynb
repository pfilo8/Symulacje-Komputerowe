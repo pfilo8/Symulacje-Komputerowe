{
 "cells": [
  {
   "cell_type": "markdown",
   "metadata": {},
   "source": [
    "# Week 1"
   ]
  },
  {
   "cell_type": "markdown",
   "metadata": {},
   "source": [
    "## Zadanie 1"
   ]
  },
  {
   "cell_type": "markdown",
   "metadata": {},
   "source": [
    "### A"
   ]
  },
  {
   "cell_type": "code",
   "execution_count": 3,
   "metadata": {
    "collapsed": true
   },
   "outputs": [],
   "source": [
    "import random\n",
    "\n",
    "def flip():\n",
    "    \"\"\" 0 - Orzeł, 1 - Reszka \"\"\"\n",
    "    u = random.random()\n",
    "    return int(u < 0.5)\n",
    "\n",
    "def simulation():\n",
    "    \"\"\" Simulation of one game. \"\"\"\n",
    "    rzuty = []\n",
    "    jas = [1,0,1]\n",
    "    grzes = [0,1,1]\n",
    "    while True:\n",
    "        rzuty.append(flip())\n",
    "        if rzuty[-3:] == jas:\n",
    "            return 'Jas'\n",
    "        elif rzuty[-3:] == grzes:\n",
    "            return 'Grzes'\n",
    "\n",
    "def monteCarlo(t = 10000):\n",
    "    \"\"\" Monte Carlo simulation which count Grzes's wins in simple flip game. \"\"\"\n",
    "    winGrzes = 0\n",
    "    for _ in range(t):\n",
    "        wygrany = simulation()\n",
    "        if wygrany == 'Grzes':\n",
    "            winGrzes += 1\n",
    "    return winGrzes/t"
   ]
  },
  {
   "cell_type": "code",
   "execution_count": 4,
   "metadata": {},
   "outputs": [
    {
     "data": {
      "text/plain": [
       "0.4886"
      ]
     },
     "execution_count": 4,
     "metadata": {},
     "output_type": "execute_result"
    }
   ],
   "source": [
    "monteCarlo()"
   ]
  },
  {
   "cell_type": "markdown",
   "metadata": {},
   "source": [
    "### B"
   ]
  },
  {
   "cell_type": "code",
   "execution_count": 5,
   "metadata": {
    "collapsed": true
   },
   "outputs": [],
   "source": [
    "def bitcoinSimulation():\n",
    "    \"\"\" Simulation of one game with bitcoins. \"\"\"\n",
    "    grzes = 100\n",
    "    jas = 5\n",
    "    while True:\n",
    "        if grzes <= 0:\n",
    "            return 'Jas'\n",
    "        elif jas <= 0:\n",
    "            return 'Grzes'\n",
    "        \n",
    "        wygrany = symulacja()\n",
    "        \n",
    "        if wygrany == 'Grzes':\n",
    "            grzes += 1\n",
    "            jas -= 1\n",
    "        elif wygrany == 'Jas':\n",
    "            jas += 1\n",
    "            grzes -= 1\n",
    "\n",
    "def bitcoinMonteCarlo(t = 10000):\n",
    "    \"\"\" Simulation whichs counts count Grzes's wins in bitcoin game. \"\"\"\n",
    "    winGrzes = 0\n",
    "    for _ in range(t):\n",
    "        wygrany = bitcoinSimulation()\n",
    "        if wygrany == 'Grzes':\n",
    "            winGrzes += 1\n",
    "    return winGrzes/t          "
   ]
  },
  {
   "cell_type": "markdown",
   "metadata": {},
   "source": [
    "Prawdopodobieństwo, że Grześ zbankrutuje wynosi:"
   ]
  },
  {
   "cell_type": "code",
   "execution_count": 6,
   "metadata": {},
   "outputs": [
    {
     "ename": "NameError",
     "evalue": "name 'symulacja' is not defined",
     "output_type": "error",
     "traceback": [
      "\u001b[1;31m---------------------------------------------------------------------------\u001b[0m",
      "\u001b[1;31mNameError\u001b[0m                                 Traceback (most recent call last)",
      "\u001b[1;32m<ipython-input-6-c9c06399804a>\u001b[0m in \u001b[0;36m<module>\u001b[1;34m()\u001b[0m\n\u001b[1;32m----> 1\u001b[1;33m \u001b[1;36m1\u001b[0m \u001b[1;33m-\u001b[0m \u001b[0mbitcoinMonteCarlo\u001b[0m\u001b[1;33m(\u001b[0m\u001b[1;33m)\u001b[0m\u001b[1;33m\u001b[0m\u001b[0m\n\u001b[0m",
      "\u001b[1;32m<ipython-input-5-d65ce9c77c24>\u001b[0m in \u001b[0;36mbitcoinMonteCarlo\u001b[1;34m(t)\u001b[0m\n\u001b[0;32m     22\u001b[0m     \u001b[0mwinGrzes\u001b[0m \u001b[1;33m=\u001b[0m \u001b[1;36m0\u001b[0m\u001b[1;33m\u001b[0m\u001b[0m\n\u001b[0;32m     23\u001b[0m     \u001b[1;32mfor\u001b[0m \u001b[0m_\u001b[0m \u001b[1;32min\u001b[0m \u001b[0mrange\u001b[0m\u001b[1;33m(\u001b[0m\u001b[0mt\u001b[0m\u001b[1;33m)\u001b[0m\u001b[1;33m:\u001b[0m\u001b[1;33m\u001b[0m\u001b[0m\n\u001b[1;32m---> 24\u001b[1;33m         \u001b[0mwygrany\u001b[0m \u001b[1;33m=\u001b[0m \u001b[0mbitcoinSimulation\u001b[0m\u001b[1;33m(\u001b[0m\u001b[1;33m)\u001b[0m\u001b[1;33m\u001b[0m\u001b[0m\n\u001b[0m\u001b[0;32m     25\u001b[0m         \u001b[1;32mif\u001b[0m \u001b[0mwygrany\u001b[0m \u001b[1;33m==\u001b[0m \u001b[1;34m'Grzes'\u001b[0m\u001b[1;33m:\u001b[0m\u001b[1;33m\u001b[0m\u001b[0m\n\u001b[0;32m     26\u001b[0m             \u001b[0mwinGrzes\u001b[0m \u001b[1;33m+=\u001b[0m \u001b[1;36m1\u001b[0m\u001b[1;33m\u001b[0m\u001b[0m\n",
      "\u001b[1;32m<ipython-input-5-d65ce9c77c24>\u001b[0m in \u001b[0;36mbitcoinSimulation\u001b[1;34m()\u001b[0m\n\u001b[0;32m      9\u001b[0m             \u001b[1;32mreturn\u001b[0m \u001b[1;34m'Grzes'\u001b[0m\u001b[1;33m\u001b[0m\u001b[0m\n\u001b[0;32m     10\u001b[0m \u001b[1;33m\u001b[0m\u001b[0m\n\u001b[1;32m---> 11\u001b[1;33m         \u001b[0mwygrany\u001b[0m \u001b[1;33m=\u001b[0m \u001b[0msymulacja\u001b[0m\u001b[1;33m(\u001b[0m\u001b[1;33m)\u001b[0m\u001b[1;33m\u001b[0m\u001b[0m\n\u001b[0m\u001b[0;32m     12\u001b[0m \u001b[1;33m\u001b[0m\u001b[0m\n\u001b[0;32m     13\u001b[0m         \u001b[1;32mif\u001b[0m \u001b[0mwygrany\u001b[0m \u001b[1;33m==\u001b[0m \u001b[1;34m'Grzes'\u001b[0m\u001b[1;33m:\u001b[0m\u001b[1;33m\u001b[0m\u001b[0m\n",
      "\u001b[1;31mNameError\u001b[0m: name 'symulacja' is not defined"
     ]
    }
   ],
   "source": [
    "1 - bitcoinMonteCarlo()"
   ]
  },
  {
   "cell_type": "markdown",
   "metadata": {},
   "source": [
    "## Zadanie 2"
   ]
  },
  {
   "cell_type": "code",
   "execution_count": 41,
   "metadata": {},
   "outputs": [],
   "source": [
    "import matplotlib.pyplot as plt\n",
    "import numpy as np\n",
    "\n",
    "def randomTest(n = 100):\n",
    "    \"\"\" Generates list of random numbers. \"\"\"\n",
    "    return [random.random() for _ in range(n)]\n",
    "\n",
    "def cummulativeDistribution(data, x):\n",
    "    \"\"\" Counts value of empirical cummulative distribution of x. \"\"\"\n",
    "    return sum([1 for element in data if element < x])/len(data)\n",
    "\n",
    "def plotECDF(data):\n",
    "    dataToPlot = []\n",
    "    n = len(data)\n",
    "    zakres = np.linspace(1.1*min(data), 1.1*max(data), n)\n",
    "    for i in zakres:\n",
    "        temp = cummulativeDistribution(data, i)\n",
    "        dataToPlot.append(temp)\n",
    "    \n",
    "    plt.scatter(zakres[1:-1], dataToPlot[:-2], s = 5, marker = 'o', color = 'k')\n",
    "    # Wycinki wynikają z przesunięcia punktów oraz braku otwartego kółka na końcu.\n",
    "    for i in range(len(dataToPlot) - 1):\n",
    "        x = [zakres[i], zakres[i+1]]\n",
    "        y = [dataToPlot[i], dataToPlot[i]]\n",
    "        plt.plot(x,y, color = 'k')\n",
    "    plt.plot(zakres[-1], dataToPlot[-1])\n",
    "    plt.show()"
   ]
  },
  {
   "cell_type": "code",
   "execution_count": 42,
   "metadata": {},
   "outputs": [
    {
     "data": {
      "text/plain": [
       "0.1"
      ]
     },
     "execution_count": 42,
     "metadata": {},
     "output_type": "execute_result"
    }
   ],
   "source": [
    "data = randomTest(10)\n",
    "cummulativeDistribution(data, 0.3)"
   ]
  },
  {
   "cell_type": "code",
   "execution_count": 43,
   "metadata": {},
   "outputs": [
    {
     "data": {
      "image/png": "[encoded data removed]",
      "text/plain": [
       "<matplotlib.figure.Figure at 0xb029080>"
      ]
     },
     "metadata": {},
     "output_type": "display_data"
    }
   ],
   "source": [
    "plt.figure(figsize = (8,8))\n",
    "plotECDF(data)"
   ]
  },
  {
   "cell_type": "code",
   "execution_count": null,
   "metadata": {
    "collapsed": true
   },
   "outputs": [],
   "source": []
  }
 ],
 "metadata": {
  "kernelspec": {
   "display_name": "Python 3",
   "language": "python",
   "name": "python3"
  },
  "language_info": {
   "codemirror_mode": {
    "name": "ipython",
    "version": 3
   },
   "file_extension": ".py",
   "mimetype": "text/x-python",
   "name": "python",
   "nbconvert_exporter": "python",
   "pygments_lexer": "ipython3",
   "version": "3.6.3"
  }
 },
 "nbformat": 4,
 "nbformat_minor": 2
}

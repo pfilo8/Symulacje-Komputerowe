{
 "cells": [
  {
   "cell_type": "markdown",
   "metadata": {},
   "source": [
    "# Zadanie 11"
   ]
  },
  {
   "cell_type": "code",
   "execution_count": 2,
   "metadata": {
    "collapsed": true
   },
   "outputs": [],
   "source": [
    "import random\n",
    "import math\n",
    "\n",
    "def BoxMuller(mu = 0,sigma = 1):\n",
    "    u1 = random.random()\n",
    "    u2 = random.random()\n",
    "    v1 = math.sqrt(-2*math.log(u1))*math.cos(2*math.pi*u2)\n",
    "    v2 = math.sqrt(-2*math.log(u1))*math.sin(2*math.pi*u2)\n",
    "    return (mu + sigma*v1, mu + sigma*v2)"
   ]
  },
  {
   "cell_type": "code",
   "execution_count": 3,
   "metadata": {
    "collapsed": true
   },
   "outputs": [],
   "source": [
    "def losujBoxMuller(mu = 0, sigma = 1, n = 1000):\n",
    "    toReturn = []\n",
    "    for _ in range(n//2):\n",
    "        v1, v2 = BoxMuller(mu, sigma)\n",
    "        toReturn.append(v1)\n",
    "        toReturn.append(v2)\n",
    "    return toReturn"
   ]
  },
  {
   "cell_type": "code",
   "execution_count": 4,
   "metadata": {
    "collapsed": true
   },
   "outputs": [],
   "source": [
    "def losujRandomGauss(mu = 0, sigma = 1, n = 1000):\n",
    "    return [random.gauss(mu, sigma) for _ in range(n)]"
   ]
  },
  {
   "cell_type": "code",
   "execution_count": 5,
   "metadata": {
    "collapsed": true
   },
   "outputs": [],
   "source": [
    "from scipy.stats import kstest\n",
    "\n",
    "def testujRozklad(data):\n",
    "    alfa = 0.05\n",
    "    score = kstest(data, 'norm')\n",
    "    pvalue = score[1]\n",
    "    return pvalue >= alfa"
   ]
  },
  {
   "cell_type": "code",
   "execution_count": 6,
   "metadata": {
    "collapsed": true
   },
   "outputs": [],
   "source": [
    "def testuj(f, n = 1000, MCS = 1000):\n",
    "    score = 0\n",
    "    for _ in range(MCS):\n",
    "        data = f(n = n)\n",
    "        wynikTestu = testujRozklad(data)\n",
    "        if wynikTestu:\n",
    "            score += 1\n",
    "    return score/MCS"
   ]
  },
  {
   "cell_type": "code",
   "execution_count": 7,
   "metadata": {},
   "outputs": [
    {
     "data": {
      "text/plain": [
       "0.94"
      ]
     },
     "execution_count": 7,
     "metadata": {},
     "output_type": "execute_result"
    }
   ],
   "source": [
    "testuj(losujBoxMuller, n = 1000, MCS = 100)"
   ]
  },
  {
   "cell_type": "code",
   "execution_count": 8,
   "metadata": {},
   "outputs": [
    {
     "data": {
      "text/plain": [
       "0.92"
      ]
     },
     "execution_count": 8,
     "metadata": {},
     "output_type": "execute_result"
    }
   ],
   "source": [
    "testuj(losujRandomGauss, n = 1000, MCS = 100)"
   ]
  },
  {
   "cell_type": "markdown",
   "metadata": {},
   "source": [
    "# Zadanie 12"
   ]
  },
  {
   "cell_type": "code",
   "execution_count": 68,
   "metadata": {
    "collapsed": true
   },
   "outputs": [],
   "source": [
    "def OgolnyNormalny(y,alfa,beta):\n",
    "    return (2*beta**(alfa/2)/math.gamma(alfa/2))* y**(alfa-1) * math.exp(-beta*y**2)\n",
    "\n",
    "def Wykladniczy(x):\n",
    "    return math.exp(-x)\n",
    "\n",
    "def exp(lam):\n",
    "    return -math.log(random.random())/lam\n",
    "\n",
    "def generujOgolnyNormalny(alfa,beta):\n",
    "    c = OgolnyNormalny(math.sqrt((alfa-1)/(2*beta)),alfa,beta)\n",
    "    while True:\n",
    "        y = exp(1)\n",
    "        u = random.random()\n",
    "        if u <= OgolnyNormalny(y,alfa,beta)/(c*Wykladniczy(y)):\n",
    "            return y"
   ]
  },
  {
   "cell_type": "code",
   "execution_count": 81,
   "metadata": {},
   "outputs": [
    {
     "data": {
      "image/png": "[encoded data removed]",
      "text/plain": [
       "<matplotlib.figure.Figure at 0xb137390>"
      ]
     },
     "metadata": {},
     "output_type": "display_data"
    }
   ],
   "source": [
    "import numpy as np\n",
    "\n",
    "data = [generujOgolnyNormalny(1,3) for _ in range(1000)]\n",
    "\n",
    "x = np.linspace(0,3,1000)\n",
    "y = [OgolnyNormalny(t,1,3) for t in x]\n",
    "plt.plot(x,y)\n",
    "plt.hist(data, density=True)\n",
    "plt.show()"
   ]
  },
  {
   "cell_type": "markdown",
   "metadata": {},
   "source": [
    "# Zadanie 13"
   ]
  },
  {
   "cell_type": "code",
   "execution_count": 10,
   "metadata": {
    "collapsed": true
   },
   "outputs": [],
   "source": [
    "def BiegunowyBoxMuller(mu = 0, sigma = 1):\n",
    "    success = False\n",
    "    while not success:\n",
    "        v1 = random.uniform(-1,1)\n",
    "        v2 = random.uniform(-1,1)\n",
    "        r = v1**2 + v2**2\n",
    "        if r <= 1:\n",
    "            success = True\n",
    "    x = v1*math.sqrt(-2*math.log(r)/r)\n",
    "    y = v2*math.sqrt(-2*math.log(r)/r)\n",
    "    return (mu + x*sigma, mu + y*sigma)"
   ]
  },
  {
   "cell_type": "code",
   "execution_count": 11,
   "metadata": {},
   "outputs": [
    {
     "name": "stdout",
     "output_type": "stream",
     "text": [
      "2.25 µs ± 17.9 ns per loop (mean ± std. dev. of 7 runs, 100000 loops each)\n"
     ]
    }
   ],
   "source": [
    "%timeit BiegunowyBoxMuller()"
   ]
  },
  {
   "cell_type": "code",
   "execution_count": 12,
   "metadata": {},
   "outputs": [
    {
     "name": "stdout",
     "output_type": "stream",
     "text": [
      "1.64 µs ± 94.4 ns per loop (mean ± std. dev. of 7 runs, 1000000 loops each)\n"
     ]
    }
   ],
   "source": [
    "%timeit BoxMuller()"
   ]
  },
  {
   "cell_type": "code",
   "execution_count": 13,
   "metadata": {
    "collapsed": true
   },
   "outputs": [],
   "source": [
    "def losujBiegunowyBoxMuller(mu = 0, sigma = 1, n = 1000):\n",
    "    toReturn = []\n",
    "    for _ in range(n//2):\n",
    "        v1, v2 = BiegunowyBoxMuller(mu, sigma)\n",
    "        toReturn.append(v1)\n",
    "        toReturn.append(v2)\n",
    "    return toReturn"
   ]
  },
  {
   "cell_type": "code",
   "execution_count": 16,
   "metadata": {
    "collapsed": true
   },
   "outputs": [],
   "source": [
    "import time\n",
    "import matplotlib.pyplot as plt\n",
    "\n",
    "def countTime(f, n):\n",
    "    start = time.clock()\n",
    "    f(n = n)\n",
    "    return time.clock() - start\n",
    "\n",
    "def plotTime():\n",
    "    ns = [10, 100, 500, 1000, 5000, 10000]\n",
    "    biegunowy = []\n",
    "    zwykly = []\n",
    "    for n in ns:\n",
    "        biegunowy.append(countTime(losujBiegunowyBoxMuller, n))\n",
    "        zwykly.append(countTime(losujBoxMuller, n))\n",
    "    print(biegunowy, zwykly)\n",
    "    plt.plot(ns, biegunowy, label = 'Biegunowy')\n",
    "    plt.plot(ns, zwykly, label = 'BoxMuller')\n",
    "    plt.legend(loc = 'best')\n",
    "    plt.show()"
   ]
  },
  {
   "cell_type": "code",
   "execution_count": 17,
   "metadata": {},
   "outputs": [
    {
     "name": "stdout",
     "output_type": "stream",
     "text": [
      "[3.4343343486398226e-05, 0.00013263636083138408, 0.0007050254180285265, 0.001325179354807915, 0.0068481416301438, 0.015195942590708] [1.8553300378698623e-05, 0.00010105627507073223, 0.00052186091988915, 0.001269124702503177, 0.006323912204152293, 0.011850821990265104]\n"
     ]
    },
    {
     "data": {
      "image/png": "[encoded data removed]",
      "text/plain": [
       "<matplotlib.figure.Figure at 0x48247f0>"
      ]
     },
     "metadata": {},
     "output_type": "display_data"
    }
   ],
   "source": [
    "plotTime()"
   ]
  },
  {
   "cell_type": "code",
   "execution_count": null,
   "metadata": {
    "collapsed": true
   },
   "outputs": [],
   "source": []
  }
 ],
 "metadata": {
  "kernelspec": {
   "display_name": "Python 3",
   "language": "python",
   "name": "python3"
  },
  "language_info": {
   "codemirror_mode": {
    "name": "ipython",
    "version": 3
   },
   "file_extension": ".py",
   "mimetype": "text/x-python",
   "name": "python",
   "nbconvert_exporter": "python",
   "pygments_lexer": "ipython3",
   "version": "3.6.3"
  }
 },
 "nbformat": 4,
 "nbformat_minor": 2
}

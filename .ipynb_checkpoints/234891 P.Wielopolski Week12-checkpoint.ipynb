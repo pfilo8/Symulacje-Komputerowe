{
 "cells": [
  {
   "cell_type": "code",
   "execution_count": 1,
   "metadata": {
    "collapsed": true
   },
   "outputs": [],
   "source": [
    "import random\n",
    "import numpy as np\n",
    "import matplotlib.pyplot as plt"
   ]
  },
  {
   "cell_type": "code",
   "execution_count": 2,
   "metadata": {
    "collapsed": true
   },
   "outputs": [],
   "source": [
    "def generujRuchBrowna(n):\n",
    "    return np.cumsum(np.random.randn(n))"
   ]
  },
  {
   "cell_type": "code",
   "execution_count": 3,
   "metadata": {
    "collapsed": true
   },
   "outputs": [],
   "source": [
    "def wyjscieZokregu():\n",
    "    x = 0\n",
    "    y = 0\n",
    "\n",
    "    while x**2+y**2 <= 1:\n",
    "        x += random.gauss(0,1)\n",
    "        y += random.gauss(0,1)\n",
    "\n",
    "    return np.arctan(y/x)"
   ]
  },
  {
   "cell_type": "code",
   "execution_count": 4,
   "metadata": {
    "collapsed": true
   },
   "outputs": [],
   "source": [
    "def wyjscieZkwadratu():\n",
    "    x = 0\n",
    "    y = 0\n",
    "    \n",
    "    while abs(x) <= 1 and abs(y) <= 1:\n",
    "        x += random.gauss(0,1)\n",
    "        y += random.gauss(0,1)\n",
    "        \n",
    "    return np.arctan(y/x)"
   ]
  },
  {
   "cell_type": "code",
   "execution_count": 12,
   "metadata": {
    "collapsed": true
   },
   "outputs": [],
   "source": [
    "def wyjscieZrownobocznego():\n",
    "    x = 0\n",
    "    y = 0\n",
    "    \n",
    "    while y >= -1 and y <= np.sqrt(3)*x+2 and y <= -np.sqrt(3)*x+2:\n",
    "        x += random.gauss(0,1)\n",
    "        y += random.gauss(0,1)\n",
    "        \n",
    "    return np.arctan(y/x)"
   ]
  },
  {
   "cell_type": "code",
   "execution_count": 19,
   "metadata": {
    "collapsed": true
   },
   "outputs": [],
   "source": [
    "def Zadanie39wrapper(func, n_steps = 10000):\n",
    "    data = []\n",
    "    \n",
    "    for _ in range(n_steps):\n",
    "        data.append(func())\n",
    "\n",
    "    plt.hist(data, density = True, bins = 30)\n",
    "    plt.show()"
   ]
  },
  {
   "cell_type": "code",
   "execution_count": 20,
   "metadata": {},
   "outputs": [
    {
     "data": {
      "image/png": "[encoded data removed]",
      "text/plain": [
       "<matplotlib.figure.Figure at 0x89b12b0>"
      ]
     },
     "metadata": {},
     "output_type": "display_data"
    }
   ],
   "source": [
    "Zadanie39wrapper(wyjscieZokregu)"
   ]
  },
  {
   "cell_type": "code",
   "execution_count": 21,
   "metadata": {},
   "outputs": [
    {
     "data": {
      "image/png": "[encoded data removed]",
      "text/plain": [
       "<matplotlib.figure.Figure at 0xa0630b8>"
      ]
     },
     "metadata": {},
     "output_type": "display_data"
    }
   ],
   "source": [
    "Zadanie39wrapper(wyjscieZkwadratu)"
   ]
  },
  {
   "cell_type": "code",
   "execution_count": 22,
   "metadata": {},
   "outputs": [
    {
     "data": {
      "image/png": "[encoded data removed]",
      "text/plain": [
       "<matplotlib.figure.Figure at 0x9a7b0f0>"
      ]
     },
     "metadata": {},
     "output_type": "display_data"
    }
   ],
   "source": [
    "Zadanie39wrapper(wyjscieZrownobocznego)"
   ]
  },
  {
   "cell_type": "code",
   "execution_count": null,
   "metadata": {
    "collapsed": true
   },
   "outputs": [],
   "source": []
  }
 ],
 "metadata": {
  "kernelspec": {
   "display_name": "Python 3",
   "language": "python",
   "name": "python3"
  },
  "language_info": {
   "codemirror_mode": {
    "name": "ipython",
    "version": 3
   },
   "file_extension": ".py",
   "mimetype": "text/x-python",
   "name": "python",
   "nbconvert_exporter": "python",
   "pygments_lexer": "ipython3",
   "version": "3.6.3"
  }
 },
 "nbformat": 4,
 "nbformat_minor": 2
}

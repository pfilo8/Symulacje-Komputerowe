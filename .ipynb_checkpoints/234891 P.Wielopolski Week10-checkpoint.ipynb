{
 "cells": [
  {
   "cell_type": "code",
   "execution_count": 1,
   "metadata": {
    "collapsed": true
   },
   "outputs": [],
   "source": [
    "def lambdaSwiateczna(rodzaj_dnia):\n",
    "    if rodzaj_dnia == 'normalny':\n",
    "        return 0.8\n",
    "    elif rodzaj_dnia == 'weekend':\n",
    "        return 1\n",
    "    else:\n",
    "        return 1.3"
   ]
  },
  {
   "cell_type": "code",
   "execution_count": null,
   "metadata": {
    "collapsed": true
   },
   "outputs": [],
   "source": [
    "def procesRyzyka(r0):\n",
    "    kapital = r0\n",
    "    for t in range(365*5):\n",
    "        "
   ]
  }
 ],
 "metadata": {
  "kernelspec": {
   "display_name": "Python 3",
   "language": "python",
   "name": "python3"
  },
  "language_info": {
   "codemirror_mode": {
    "name": "ipython",
    "version": 3
   },
   "file_extension": ".py",
   "mimetype": "text/x-python",
   "name": "python",
   "nbconvert_exporter": "python",
   "pygments_lexer": "ipython3",
   "version": "3.6.3"
  }
 },
 "nbformat": 4,
 "nbformat_minor": 2
}

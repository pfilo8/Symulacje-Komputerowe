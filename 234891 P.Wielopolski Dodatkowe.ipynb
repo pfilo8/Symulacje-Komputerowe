{
 "cells": [
  {
   "cell_type": "code",
   "execution_count": 22,
   "metadata": {
    "collapsed": true
   },
   "outputs": [],
   "source": [
    "import random\n",
    "import numpy as np\n",
    "import matplotlib.pyplot as plt"
   ]
  },
  {
   "cell_type": "code",
   "execution_count": 78,
   "metadata": {
    "collapsed": true
   },
   "outputs": [],
   "source": [
    "n = 10\n",
    "q = 0.5\n",
    "alpha = 1\n",
    "beta = 0.9\n",
    "krokiMC = 40"
   ]
  },
  {
   "cell_type": "code",
   "execution_count": 79,
   "metadata": {
    "collapsed": true
   },
   "outputs": [],
   "source": [
    "stan = np.zeros(n)"
   ]
  },
  {
   "cell_type": "code",
   "execution_count": 80,
   "metadata": {},
   "outputs": [
    {
     "name": "stdout",
     "output_type": "stream",
     "text": [
      "[ 1.  0.  0.  0.  0.  0.  0.  0.  0.  0.]\n",
      "[ 0.  1.  0.  0.  0.  0.  0.  0.  0.  0.]\n",
      "[ 1.  0.  1.  0.  0.  0.  0.  0.  0.  0.]\n",
      "[ 0.  1.  0.  1.  0.  0.  0.  0.  0.  0.]\n",
      "[ 1.  0.  1.  0.  1.  0.  0.  0.  0.  0.]\n",
      "[ 0.  1.  0.  1.  0.  1.  0.  0.  0.  0.]\n",
      "[ 1.  0.  1.  0.  1.  0.  1.  0.  0.  0.]\n",
      "[ 0.  1.  0.  1.  0.  1.  0.  1.  0.  0.]\n",
      "[ 1.  0.  1.  0.  1.  0.  1.  0.  1.  0.]\n",
      "[ 0.  1.  0.  1.  0.  1.  0.  1.  0.  0.]\n",
      "[ 1.  0.  1.  0.  1.  0.  1.  0.  1.  0.]\n",
      "[ 0.  1.  0.  1.  0.  1.  0.  1.  0.  0.]\n",
      "[ 1.  0.  1.  0.  1.  0.  1.  0.  1.  0.]\n",
      "[ 0.  1.  0.  1.  0.  1.  0.  1.  0.  0.]\n",
      "[ 1.  0.  1.  0.  1.  0.  1.  0.  1.  0.]\n",
      "[ 0.  1.  0.  1.  0.  1.  0.  1.  0.  0.]\n",
      "[ 1.  0.  1.  0.  1.  0.  1.  0.  1.  0.]\n",
      "[ 0.  1.  0.  1.  0.  1.  0.  1.  0.  0.]\n",
      "[ 1.  0.  1.  0.  1.  0.  1.  0.  1.  0.]\n",
      "[ 0.  1.  0.  1.  0.  1.  0.  1.  0.  0.]\n",
      "[ 1.  0.  1.  0.  1.  0.  1.  0.  1.  0.]\n",
      "[ 0.  1.  0.  1.  0.  1.  0.  1.  0.  1.]\n",
      "[ 1.  0.  1.  0.  1.  0.  1.  0.  1.  0.]\n",
      "[ 0.  1.  0.  1.  0.  1.  0.  1.  0.  0.]\n",
      "[ 1.  0.  1.  0.  1.  0.  1.  0.  1.  0.]\n",
      "[ 0.  1.  0.  1.  0.  1.  0.  1.  0.  0.]\n",
      "[ 1.  0.  1.  0.  1.  0.  1.  0.  1.  0.]\n",
      "[ 0.  1.  0.  1.  0.  1.  0.  1.  0.  0.]\n",
      "[ 1.  0.  1.  0.  1.  0.  1.  0.  1.  0.]\n",
      "[ 0.  1.  0.  1.  0.  1.  0.  1.  0.  0.]\n",
      "[ 1.  0.  1.  0.  1.  0.  1.  0.  1.  0.]\n",
      "[ 0.  1.  0.  1.  0.  1.  0.  1.  0.  0.]\n",
      "[ 1.  0.  1.  0.  1.  0.  1.  0.  1.  0.]\n",
      "[ 0.  1.  0.  1.  0.  1.  0.  1.  0.  0.]\n",
      "[ 1.  0.  1.  0.  1.  0.  1.  0.  1.  0.]\n",
      "[ 0.  1.  0.  1.  0.  1.  0.  1.  0.  0.]\n",
      "[ 1.  0.  1.  0.  1.  0.  1.  0.  1.  0.]\n",
      "[ 0.  1.  0.  1.  0.  1.  0.  1.  0.  0.]\n",
      "[ 1.  0.  1.  0.  1.  0.  1.  0.  1.  0.]\n",
      "[ 0.  1.  0.  1.  0.  1.  0.  1.  0.  1.]\n"
     ]
    }
   ],
   "source": [
    "for _ in range(krokiMC):\n",
    "    newstan = np.zeros(n)\n",
    "    for i in range(n):\n",
    "        if i == 0 and stan[0] == 0:\n",
    "            u = random.random()\n",
    "            if u <= alpha:\n",
    "                newstan[0] = 1\n",
    "        elif i>=0 and i<n-1:\n",
    "            if stan[i+1] == 0 and stan[i] == 1:\n",
    "                newstan[i+1] = 1\n",
    "                newstan[i] = 0\n",
    "            if stan[i-1] == 0 and stan[i] == 1:\n",
    "                w = random.random()\n",
    "                if w <= q:\n",
    "                    newstan[i-1] = 1\n",
    "                    newstan[i] = 0\n",
    "        elif i == n-1:\n",
    "            wyskoczenieZgrafu = random.random()\n",
    "            if wyskoczenieZgrafu <= beta:\n",
    "                newstan[i] = 0\n",
    "    stan = newstan\n",
    "    print(stan)"
   ]
  },
  {
   "cell_type": "code",
   "execution_count": null,
   "metadata": {
    "collapsed": true
   },
   "outputs": [],
   "source": []
  }
 ],
 "metadata": {
  "kernelspec": {
   "display_name": "Python 3",
   "language": "python",
   "name": "python3"
  },
  "language_info": {
   "codemirror_mode": {
    "name": "ipython",
    "version": 3
   },
   "file_extension": ".py",
   "mimetype": "text/x-python",
   "name": "python",
   "nbconvert_exporter": "python",
   "pygments_lexer": "ipython3",
   "version": "3.6.3"
  }
 },
 "nbformat": 4,
 "nbformat_minor": 2
}

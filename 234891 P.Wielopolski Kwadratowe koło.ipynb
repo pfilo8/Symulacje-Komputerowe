{
 "cells": [
  {
   "cell_type": "markdown",
   "metadata": {},
   "source": [
    "# Kwadratura koła"
   ]
  },
  {
   "cell_type": "code",
   "execution_count": 301,
   "metadata": {
    "collapsed": true
   },
   "outputs": [],
   "source": [
    "import numpy as np\n",
    "import matplotlib.pyplot as plt"
   ]
  },
  {
   "cell_type": "code",
   "execution_count": 302,
   "metadata": {},
   "outputs": [],
   "source": [
    "import matplotlib.pyplot as plt\n",
    "import numpy as np\n",
    "\n",
    "def simulation(eps, n = 20, dt = 10**(-4)):\n",
    "    boki_x = np.array([1]*n + [-(2*i/(n+1)-1) for i in range(1,n+1)] + [-1]*n + [(2*i/(n+1)-1) for i in range(1,n+1)])\n",
    "    boki_y = np.array([(2*i/(n+1)-1) for i in range(1,n+1)] + [1]*n + [-(2*i/(n+1)-1) for i in range(1,n+1)] + [-1]*n)\n",
    "    alfa = np.arctan(boki_y/boki_x)\n",
    "    cos = np.cos(alfa)\n",
    "    sin = np.sin(alfa)\n",
    "\n",
    "    normaSi = np.sqrt(boki_x**2 + boki_y**2)\n",
    "    unormowany_dryf_x = -boki_x/normaSi\n",
    "    unormowany_dryf_y = -boki_y/normaSi\n",
    "    normaXi = np.sqrt(boki_x**2 + boki_y**2)\n",
    "    t = 0\n",
    "\n",
    "    while not np.logical_and(normaXi <= 1+eps, normaXi >= 1-eps).all():\n",
    "        try:\n",
    "            random = dt*np.random.randn(4*n)\n",
    "            new_x = random*cos\n",
    "            new_y = random*sin\n",
    "\n",
    "            normaXi = np.sqrt(boki_x**2 + boki_y**2)\n",
    "            kierunek_dryfu = np.float64(normaXi < 1)*2 - 1\n",
    "\n",
    "            boki_x += new_x - dt*kierunek_dryfu*unormowany_dryf_x\n",
    "            boki_y += new_y - dt*kierunek_dryfu*unormowany_dryf_y\n",
    "\n",
    "            t += dt\n",
    "        except:\n",
    "            continue\n",
    "    return t"
   ]
  },
  {
   "cell_type": "code",
   "execution_count": 303,
   "metadata": {},
   "outputs": [
    {
     "data": {
      "image/png": "[encoded data removed]",
      "text/plain": [
       "<matplotlib.figure.Figure at 0xb63ecc0>"
      ]
     },
     "metadata": {},
     "output_type": "display_data"
    }
   ],
   "source": [
    "MCS = 10\n",
    "scores = []\n",
    "zakres = np.linspace(0.001, 0.1, 30)\n",
    "\n",
    "for eps in zakres:\n",
    "    scores.append(np.mean([simulation(eps) for _ in range(MCS)]))\n",
    "    \n",
    "plt.figure(figsize = (12,4))\n",
    "\n",
    "plt.scatter(zakres, scores)\n",
    "plt.xlabel('$\\epsilon$')\n",
    "plt.ylabel('t')\n",
    "plt.show()"
   ]
  },
  {
   "cell_type": "code",
   "execution_count": 304,
   "metadata": {},
   "outputs": [
    {
     "name": "stderr",
     "output_type": "stream",
     "text": [
      "D:\\Games\\Anaconda\\lib\\site-packages\\ipykernel_launcher.py:7: RuntimeWarning: divide by zero encountered in true_divide\n",
      "  import sys\n"
     ]
    },
    {
     "data": {
      "image/png": "[encoded data removed]",
      "text/plain": [
       "<matplotlib.figure.Figure at 0xacbba90>"
      ]
     },
     "metadata": {},
     "output_type": "display_data"
    }
   ],
   "source": [
    "MCS = 10\n",
    "scores = []\n",
    "zakres = np.arange(10, 101, 5)\n",
    "\n",
    "for n in zakres:\n",
    "    scores.append(np.mean([simulation(0.01, n = n) for _ in range(MCS)]))\n",
    "    \n",
    "plt.figure(figsize = (12,4))\n",
    "\n",
    "plt.scatter(zakres, scores)\n",
    "plt.xlabel('$n$')\n",
    "plt.ylabel('t')\n",
    "plt.show()"
   ]
  },
  {
   "cell_type": "code",
   "execution_count": null,
   "metadata": {
    "collapsed": true
   },
   "outputs": [],
   "source": []
  }
 ],
 "metadata": {
  "kernelspec": {
   "display_name": "Python 3",
   "language": "python",
   "name": "python3"
  },
  "language_info": {
   "codemirror_mode": {
    "name": "ipython",
    "version": 3
   },
   "file_extension": ".py",
   "mimetype": "text/x-python",
   "name": "python",
   "nbconvert_exporter": "python",
   "pygments_lexer": "ipython3",
   "version": "3.6.3"
  }
 },
 "nbformat": 4,
 "nbformat_minor": 2
}
